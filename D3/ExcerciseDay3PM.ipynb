{
 "cells": [
  {
   "cell_type": "markdown",
   "metadata": {},
   "source": [
    "---  \n",
    "\n",
    "Name : Nicku R. Perdana  \n",
    "Batch : HCK-012  \n",
    "\n",
    "---  "
   ]
  },
  {
   "cell_type": "markdown",
   "metadata": {},
   "source": [
    "# Excercise 1\n",
    "\n",
    "Return of output equal to this:\n",
    "\n",
    "1  \n",
    "22  \n",
    "333  \n",
    "4444  \n",
    "55555  \n",
    "666666  \n",
    "7777777  \n",
    "88888888  \n",
    "999999999"
   ]
  },
  {
   "cell_type": "code",
   "execution_count": 6,
   "metadata": {},
   "outputs": [
    {
     "name": "stdout",
     "output_type": "stream",
     "text": [
      "1\n",
      "22\n",
      "333\n",
      "4444\n",
      "55555\n",
      "666666\n",
      "7777777\n",
      "88888888\n",
      "999999999\n",
      "\n",
      "Different output:\n",
      "0\n",
      "01\n",
      "012\n",
      "0123\n",
      "01234\n",
      "012345\n",
      "0123456\n",
      "01234567\n",
      "012345678\n"
     ]
    }
   ],
   "source": [
    "for x in [1,2,3,4,5,6,7,8,9]:\n",
    "    for y in range(x):\n",
    "        print(x, end=\"\")\n",
    "    \n",
    "    print()\n",
    "\n",
    "print()\n",
    "print(\"Different output:\")\n",
    "\n",
    "for x in [1,2,3,4,5,6,7,8,9]:\n",
    "    for y in range(x):\n",
    "        print(y, end=\"\")\n",
    "    \n",
    "    print()"
   ]
  },
  {
   "cell_type": "markdown",
   "metadata": {},
   "source": [
    "# Excercise 2  \n",
    "\n",
    "Write a Python program to check the validity of passwords input by users.  \n",
    "Validation : \n",
    "- At least 1 letter between [a-z] and 1 letter between [A-Z].\n",
    "- At least 1 number between [0-9].\n",
    "- At least 1 character from [$#@].\n",
    "- Minimum length 6 characters.\n",
    "- Maximum length 16 characters."
   ]
  },
  {
   "cell_type": "code",
   "execution_count": 1,
   "metadata": {},
   "outputs": [
    {
     "name": "stdout",
     "output_type": "stream",
     "text": [
      "Password must contains between 6 to 16 characters\n",
      "Password must contains at least 1 lowercase\n",
      "Password must contains at least 1 uppercase\n",
      "Password must contains at least 1 numerical character\n",
      "Password must contains at least 1 symbol presented [$, #, @]\n"
     ]
    }
   ],
   "source": [
    "userInput = input(\"Please type a number...\")\n",
    "specialCharacter = \"$#@\"\n",
    "\n",
    "if len(userInput) < 6 or len(userInput) > 16:\n",
    "    print(\"Password must contains between 6 to 16 characters\")\n",
    "if not any(pw.islower() for pw in userInput):\n",
    "    print(\"Password must contains at least 1 lowercase\")\n",
    "if not any(pw.isupper() for pw in userInput):\n",
    "    print(\"Password must contains at least 1 uppercase\")\n",
    "if not any(pw.isnumeric() for pw in userInput):\n",
    "    print(\"Password must contains at least 1 numerical character\")\n",
    "if not any(pw in specialCharacter for pw in userInput):\n",
    "    print(\"Password must contains at least 1 symbol presented [$, #, @]\")\n",
    "else:\n",
    "    print(\"Your password qualified our requirements\")"
   ]
  }
 ],
 "metadata": {
  "kernelspec": {
   "display_name": "base",
   "language": "python",
   "name": "python3"
  },
  "language_info": {
   "codemirror_mode": {
    "name": "ipython",
    "version": 3
   },
   "file_extension": ".py",
   "mimetype": "text/x-python",
   "name": "python",
   "nbconvert_exporter": "python",
   "pygments_lexer": "ipython3",
   "version": "3.11.5"
  }
 },
 "nbformat": 4,
 "nbformat_minor": 2
}
