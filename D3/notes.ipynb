{
 "cells": [
  {
   "cell_type": "markdown",
   "metadata": {},
   "source": [
    "# Conditionals and Loops"
   ]
  },
  {
   "cell_type": "markdown",
   "metadata": {},
   "source": [
    "## Conditionals"
   ]
  },
  {
   "cell_type": "markdown",
   "metadata": {},
   "source": [
    "### if"
   ]
  },
  {
   "cell_type": "markdown",
   "metadata": {},
   "source": [
    "Format:\n",
    "```python\n",
    "if <expression>:\n",
    "    <body>\n",
    "```"
   ]
  },
  {
   "cell_type": "markdown",
   "metadata": {},
   "source": [
    "a **body** consist of one or more statements that will run when the expression is `True`"
   ]
  },
  {
   "cell_type": "code",
   "execution_count": 3,
   "metadata": {},
   "outputs": [
    {
     "name": "stdout",
     "output_type": "stream",
     "text": [
      "Hello\n",
      "World!\n",
      "123\n"
     ]
    }
   ],
   "source": [
    "# code here\n",
    "\n",
    "# list of operators\n",
    "# arithmatics + - / *\n",
    "# comparisons == < > != >= <= \n",
    "# assignment =\n",
    "\n",
    "number = 10\n",
    "\n",
    "if number == 10:\n",
    "    print(\"Hello\")\n",
    "    print(\"World!\")\n",
    "    print(\"123\")\n",
    "\n",
    "if number == 11:\n",
    "    print(\"The number is 11\")"
   ]
  },
  {
   "cell_type": "markdown",
   "metadata": {},
   "source": [
    "### if..else"
   ]
  },
  {
   "cell_type": "markdown",
   "metadata": {},
   "source": [
    "Format:\n",
    "```python\n",
    "if <expression>:\n",
    "    <statement when true>\n",
    "else:\n",
    "    <statement when false>\n",
    "```"
   ]
  },
  {
   "cell_type": "code",
   "execution_count": null,
   "metadata": {},
   "outputs": [],
   "source": [
    "# code here\n",
    "\n",
    "number = 10 # statement\n",
    "\n",
    "if number == (21-10):\n",
    "    # execute this when expression is true\n",
    "    print (\"Hello\")\n",
    "    print (\"World\")\n",
    "    print (\"123\")\n",
    "    print (\"abc\")\n",
    "else:\n",
    "    # execute this when expression is false\n",
    "    print(\"Tidak sama!\")"
   ]
  },
  {
   "cell_type": "markdown",
   "metadata": {},
   "source": [
    "### if..elif..else"
   ]
  },
  {
   "cell_type": "markdown",
   "metadata": {},
   "source": [
    "Format: \n",
    "```python\n",
    "if <expressionA>:\n",
    "    <statement A>\n",
    "elif <expressionB>:\n",
    "    <statement B>\n",
    "else:\n",
    "    <statement C>\n",
    "```"
   ]
  },
  {
   "cell_type": "code",
   "execution_count": null,
   "metadata": {},
   "outputs": [],
   "source": [
    "# code here\n",
    "\n",
    "number = 11 # statement\n",
    "\n",
    "if number == (21-10):\n",
    "    # execute this when expression is true\n",
    "    print (\"Hello\")\n",
    "    print (\"World\")\n",
    "    print (\"123\")\n",
    "    print (\"abc\")\n",
    "elif number == 11:\n",
    "    print(\"Number is 11\")\n",
    "elif number == 12:\n",
    "    print(\"Number is 12\")\n",
    "elif number == 13:\n",
    "    print(\"Number is 13\")\n",
    "elif number == 14:\n",
    "    print(\"Number is 14\")\n",
    "else:\n",
    "    # execute this when expression is false\n",
    "    print(\"Tidak sama!\")"
   ]
  },
  {
   "cell_type": "code",
   "execution_count": 9,
   "metadata": {},
   "outputs": [
    {
     "name": "stdout",
     "output_type": "stream",
     "text": [
      "Number is 11 or 13\n"
     ]
    }
   ],
   "source": [
    "# code here\n",
    "\n",
    "number = 11 # statement\n",
    "\n",
    "# boolean\n",
    "# and `and`\n",
    "# or `or`\n",
    "# not `!=`\n",
    "\n",
    "if number == (11-10):\n",
    "    # execute this when expression is true\n",
    "    print (\"Hello\")\n",
    "    print (\"World\")\n",
    "    print (\"123\")\n",
    "    print (\"abc\")\n",
    "    \n",
    "    # ingin cek apakah number == 11 atau number == 13\n",
    "    \n",
    "elif number == 11 or number == 13:\n",
    "    print(\"Number is 11 or 13\")\n",
    "else:\n",
    "    # execute this when expression is false\n",
    "    print(\"Tidak sama!\")"
   ]
  },
  {
   "cell_type": "markdown",
   "metadata": {},
   "source": [
    "### nested"
   ]
  },
  {
   "cell_type": "markdown",
   "metadata": {},
   "source": [
    "Format:\n",
    "```python\n",
    "if <expression1>:\n",
    "    if <expression2>:\n",
    "        <statement when true>\n",
    "```\n",
    "\n",
    "alternatively, in some cases, we can avoid nested by combining multiple conditions into one expression like this\n",
    "```python\n",
    "# AND\n",
    "if <condition1> and <condition2>:\n",
    "        <statement when true>\n",
    "\n",
    "# OR\n",
    "if <condition1> or <condition2>:\n",
    "        <statement when true>\n",
    "```\n",
    "reference: https://stackoverflow.com/questions/5259938/what-is-better-multiple-if-statements-or-one-if-with-multiple-conditions"
   ]
  },
  {
   "cell_type": "code",
   "execution_count": 16,
   "metadata": {},
   "outputs": [
    {
     "name": "stdout",
     "output_type": "stream",
     "text": [
      "Valid\n",
      "Panjang kata tidak sesuai.\n",
      "Nama tidak sesuai.\n"
     ]
    }
   ],
   "source": [
    "# code here\n",
    "\n",
    "name = \"Yudha\"\n",
    "\n",
    "if name == \"Yudha\":\n",
    "    if len(name) > 0:\n",
    "        print(\"Valid\")\n",
    "    else:\n",
    "        print(\"Panjang kata tidak sesuai.\")\n",
    "\n",
    "# sama dengan\n",
    "# if name == \"Yudha\" and len(name) > 0:\n",
    "#     print(\"Valid\")\n",
    "\n",
    "if name == \"Yudha\":\n",
    "    if len(name) > 7:\n",
    "        print(\"Valid\")\n",
    "    else:\n",
    "        print(\"Panjang kata tidak sesuai.\")\n",
    "else:\n",
    "    print(\"Nama tidak sesuai.\")\n",
    "\n",
    "\n",
    "if name == \"Yudhaa\":\n",
    "    if len(name) > 7:\n",
    "        print(\"Valid\")\n",
    "    else:\n",
    "        print(\"Panjang kata tidak sesuai.\")\n",
    "else:\n",
    "    print(\"Nama tidak sesuai.\")"
   ]
  },
  {
   "cell_type": "markdown",
   "metadata": {},
   "source": [
    "### ternary operator"
   ]
  },
  {
   "cell_type": "markdown",
   "metadata": {},
   "source": [
    "Format:\n",
    "```python\n",
    "<statement when true> if <expression> else <statement when false>\n",
    "```"
   ]
  },
  {
   "cell_type": "code",
   "execution_count": 18,
   "metadata": {},
   "outputs": [
    {
     "name": "stdout",
     "output_type": "stream",
     "text": [
      "Hello\n",
      "Error\n"
     ]
    }
   ],
   "source": [
    "# code here\n",
    "\n",
    "name = \"Yudha\"\n",
    "\n",
    "# Same function as:\n",
    "\n",
    "if name == \"Yudha\":\n",
    "    print(\"Hello\")\n",
    "else:\n",
    "    print(\"Error\") # Return `Hello`\n",
    "\n",
    "name2 = \"Yudhaa\"\n",
    "\n",
    "print(\"Hello2\") if name2 == \"Yudha\" else print(\"Error\") # Return `Error`"
   ]
  },
  {
   "cell_type": "markdown",
   "metadata": {},
   "source": [
    "## Loops"
   ]
  },
  {
   "cell_type": "markdown",
   "metadata": {},
   "source": [
    "### while"
   ]
  },
  {
   "cell_type": "markdown",
   "metadata": {},
   "source": [
    "Format: \n",
    "```python\n",
    "while <expression>:\n",
    "    <body>\n",
    "```"
   ]
  },
  {
   "cell_type": "code",
   "execution_count": 30,
   "metadata": {},
   "outputs": [
    {
     "name": "stdout",
     "output_type": "stream",
     "text": [
      "`Number` is less than 10, your input was 1\n",
      "`Number` is less than 10, your input was 2\n",
      "`Number` is less than 10, your input was 3\n",
      "`Number` is less than 10, your input was 4\n",
      "`Number` is less than 10, your input was 5\n",
      "`Number` is less than 10, your input was 6\n",
      "`Number` is less than 10, your input was 7\n",
      "`Number` is less than 10, your input was 8\n",
      "`Number` is less than 10, your input was 9\n",
      "`Number` is less than 10, your input was 10\n",
      "Loop is over\n"
     ]
    }
   ],
   "source": [
    "# code here\n",
    "\n",
    "number = 1\n",
    "\n",
    "while number <= 10:\n",
    "    print(f\"`Number` is less than 10, your input was {number}\", end=\"\\n\") # loop check\n",
    "    number = number + 1 # a special case to stop loop with a certain number of iteration\n",
    "else:\n",
    "    print(\"Loop is over\")\n",
    "    "
   ]
  },
  {
   "cell_type": "markdown",
   "metadata": {},
   "source": [
    "### while..else"
   ]
  },
  {
   "cell_type": "markdown",
   "metadata": {},
   "source": [
    "Format: \n",
    "```python\n",
    "while <expression>:\n",
    "    <statement when true>\n",
    "else:\n",
    "    <statement when false>\n",
    "```"
   ]
  },
  {
   "cell_type": "code",
   "execution_count": 31,
   "metadata": {},
   "outputs": [
    {
     "name": "stdout",
     "output_type": "stream",
     "text": [
      "Loop is over\n"
     ]
    }
   ],
   "source": [
    "# code here\n",
    "\n",
    "number = 1\n",
    "\n",
    "while number < 1:\n",
    "    print(f\"`Number` is less than 10, your input was {number}\", end=\"\\n\") # loop check\n",
    "    number = number + 1 # a special case to stop loop with a certain number of iteration\n",
    "else:\n",
    "    print(\"Loop is over\") # Return \"Loop is over\"\n",
    "    "
   ]
  },
  {
   "cell_type": "markdown",
   "metadata": {},
   "source": [
    "### for"
   ]
  },
  {
   "cell_type": "markdown",
   "metadata": {},
   "source": [
    "Format:\n",
    "```python\n",
    "for <var> in <iterable>:\n",
    "    <body>\n",
    "```\n",
    "\n",
    "- an **iterable** is `List`, `Tuple`, or `Dictionary`\n",
    "- a **var** is a variable that will have a value in every loop"
   ]
  },
  {
   "cell_type": "code",
   "execution_count": 33,
   "metadata": {},
   "outputs": [
    {
     "name": "stdout",
     "output_type": "stream",
     "text": [
      "1\n",
      "2\n",
      "3\n",
      "4\n",
      "5\n",
      "6\n"
     ]
    }
   ],
   "source": [
    "# code here\n",
    "\n",
    "for var in [1,2,3,4,5,6]:\n",
    "    print(var) # Return every value in room [1,2,3,4,5,6]"
   ]
  },
  {
   "cell_type": "markdown",
   "metadata": {},
   "source": [
    "### ternary for"
   ]
  },
  {
   "cell_type": "markdown",
   "metadata": {},
   "source": [
    "Format: \n",
    "```python\n",
    "# default\n",
    "[<statement> for <var> in <iterable>]\n",
    "\n",
    "# with expression\n",
    "[<statement> for <var> in <iterable> if <expression>]\n",
    "```"
   ]
  },
  {
   "cell_type": "code",
   "execution_count": 40,
   "metadata": {},
   "outputs": [
    {
     "name": "stdout",
     "output_type": "stream",
     "text": [
      "1\n",
      "2\n",
      "3\n",
      "4\n",
      "5\n",
      "6\n"
     ]
    },
    {
     "data": {
      "text/plain": [
       "[None, None, None, None, None, None]"
      ]
     },
     "execution_count": 40,
     "metadata": {},
     "output_type": "execute_result"
    }
   ],
   "source": [
    "# code here\n",
    "\n",
    "# for var in [1,2,3,4,5,6]:\n",
    "#     print(var) # Return every value in room [1,2,3,4,5,6]\n",
    "\n",
    "[print(asdf) for asdf in [1,2,3,4,5,6]]"
   ]
  },
  {
   "cell_type": "markdown",
   "metadata": {},
   "source": [
    "### nested loop"
   ]
  },
  {
   "cell_type": "code",
   "execution_count": 41,
   "metadata": {},
   "outputs": [
    {
     "name": "stdout",
     "output_type": "stream",
     "text": [
      "1\n",
      "a\n",
      "b\n",
      "c\n",
      "2\n",
      "a\n",
      "b\n",
      "c\n",
      "3\n",
      "a\n",
      "b\n",
      "c\n",
      "4\n",
      "a\n",
      "b\n",
      "c\n",
      "5\n",
      "a\n",
      "b\n",
      "c\n",
      "6\n",
      "a\n",
      "b\n",
      "c\n"
     ]
    }
   ],
   "source": [
    "# code here\n",
    "\n",
    "for x in [1,2,3,4,5,6]:\n",
    "    print(x) # Return every value in room [1,2,3,4,5,6]\n",
    "    \n",
    "    for y in [\"a\",\"b\",\"c\"]:\n",
    "        print(y)"
   ]
  },
  {
   "cell_type": "code",
   "execution_count": 15,
   "metadata": {},
   "outputs": [
    {
     "name": "stdout",
     "output_type": "stream",
     "text": [
      "1abc\n",
      "2abc\n",
      "3abc\n"
     ]
    }
   ],
   "source": [
    "for x in [1,2,3]:\n",
    "    print(x, end=\"\")\n",
    "    \n",
    "    for y in [\"a\",\"b\",\"c\"]:\n",
    "        print(y, end=\"\")\n",
    "        \n",
    "    print() # print baris selanjutnya"
   ]
  },
  {
   "cell_type": "code",
   "execution_count": 18,
   "metadata": {},
   "outputs": [
    {
     "name": "stdout",
     "output_type": "stream",
     "text": [
      "1abc\n",
      "2abc\n",
      "3abc\n"
     ]
    }
   ],
   "source": [
    "for x in [1,2,3]:\n",
    "    print(x, end=\"\")\n",
    "    \n",
    "    for y in [\"a\",\"b\",\"c\"]:\n",
    "        print(y, end=\"\")\n",
    "        \n",
    "    print()"
   ]
  },
  {
   "cell_type": "code",
   "execution_count": 22,
   "metadata": {},
   "outputs": [
    {
     "name": "stdout",
     "output_type": "stream",
     "text": [
      "0\n",
      "01\n",
      "012\n"
     ]
    }
   ],
   "source": [
    "for x in [1,2,3]:\n",
    "    for y in range(x):\n",
    "        print(y, end=\"\")\n",
    "    print()\n",
    "    "
   ]
  },
  {
   "cell_type": "markdown",
   "metadata": {},
   "source": [
    "### `break` and `continue`"
   ]
  },
  {
   "cell_type": "markdown",
   "metadata": {},
   "source": [
    "- `break`: terminate the loop entirely\n",
    "- `continue`: terminate current process/iteration"
   ]
  },
  {
   "cell_type": "markdown",
   "metadata": {},
   "source": [
    "Example:\n",
    "```python\n",
    "x = 0 # initialize x with 0\n",
    "while True:\n",
    "    x += 1 # increment x with 1 in every iteration\n",
    "    \n",
    "    \"\"\" \n",
    "    here we check x value if it is 3 then \n",
    "    the current iteration will be terminated\n",
    "    \"\"\"\n",
    "    if x == 3:\n",
    "        continue\n",
    "\n",
    "    \"\"\" \n",
    "    here we check x value if it is 5 then \n",
    "    the loop will be terminated\n",
    "    \"\"\"\n",
    "    if x == 5:\n",
    "        break\n",
    "\n",
    "    print(x)\n",
    "```"
   ]
  },
  {
   "cell_type": "code",
   "execution_count": 52,
   "metadata": {},
   "outputs": [
    {
     "name": "stdout",
     "output_type": "stream",
     "text": [
      "1\n",
      "2\n",
      "3\n",
      "4\n",
      "6\n",
      "7\n",
      "8\n",
      "9\n",
      "10\n"
     ]
    }
   ],
   "source": [
    "# code here\n",
    "\n",
    "for asdf in [1,2,3,4,5,6,7,8,9,10]:\n",
    "    if asdf == 5:\n",
    "        continue\n",
    "    \n",
    "    print(asdf) # pass the print when asdf is 5"
   ]
  },
  {
   "cell_type": "code",
   "execution_count": 53,
   "metadata": {},
   "outputs": [
    {
     "name": "stdout",
     "output_type": "stream",
     "text": [
      "1\n",
      "2\n",
      "3\n",
      "4\n"
     ]
    }
   ],
   "source": [
    "# code here\n",
    "\n",
    "for asdf in [1,2,3,4,5,6,7,8,9,10]:\n",
    "    if asdf == 5:\n",
    "        break # stop the loop when asdf is 5\n",
    "    \n",
    "    print(asdf)"
   ]
  },
  {
   "cell_type": "code",
   "execution_count": 5,
   "metadata": {},
   "outputs": [
    {
     "name": "stdout",
     "output_type": "stream",
     "text": [
      "Hello\n",
      "World\n"
     ]
    }
   ],
   "source": [
    "# menu tipis-tipis\n",
    "# pilih menu:\n",
    "# 1. output hello \n",
    "# 2. outpuh world\n",
    "# 3. shutdown program\n",
    "\n",
    "while True:\n",
    "    userInput = input(\"Pilih menu 1, 2, atau 3\")\n",
    "    \n",
    "    # jika user input 1\n",
    "    if userInput == \"1\":\n",
    "        print(\"Hello\")\n",
    "    # jika user input 2\n",
    "    elif userInput == \"2\":\n",
    "        print(\"World\")\n",
    "    # jika user input 3\n",
    "    else:\n",
    "        break\n",
    "    "
   ]
  },
  {
   "cell_type": "markdown",
   "metadata": {},
   "source": [
    "## Practice"
   ]
  },
  {
   "cell_type": "markdown",
   "metadata": {},
   "source": [
    "https://colab.research.google.com/github/FTDS-learning-materials/phase-0/blob/main/w1/P0W1D3AM_Conditions_and_Loops.ipynb"
   ]
  }
 ],
 "metadata": {
  "kernelspec": {
   "display_name": "Python 3",
   "language": "python",
   "name": "python3"
  },
  "language_info": {
   "codemirror_mode": {
    "name": "ipython",
    "version": 3
   },
   "file_extension": ".py",
   "mimetype": "text/x-python",
   "name": "python",
   "nbconvert_exporter": "python",
   "pygments_lexer": "ipython3",
   "version": "3.11.5"
  },
  "orig_nbformat": 4
 },
 "nbformat": 4,
 "nbformat_minor": 2
}
