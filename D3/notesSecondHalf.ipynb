{
 "cells": [
  {
   "cell_type": "markdown",
   "metadata": {},
   "source": [
    "# Python Function"
   ]
  },
  {
   "cell_type": "markdown",
   "metadata": {},
   "source": [
    "## Definition"
   ]
  },
  {
   "cell_type": "markdown",
   "metadata": {},
   "source": [
    "A **function** is a set of instructions that does specific job"
   ]
  },
  {
   "cell_type": "markdown",
   "metadata": {},
   "source": [
    "![](https://geo-python.github.io/2017/_images/Function_anatomy.png)"
   ]
  },
  {
   "cell_type": "code",
   "execution_count": 8,
   "metadata": {},
   "outputs": [
    {
     "name": "stdout",
     "output_type": "stream",
     "text": [
      "140.0\n",
      "288.7055555555555\n"
     ]
    }
   ],
   "source": [
    "def celsius_to_fahr(temp):\n",
    "    return ((9/5) * temp) + 32\n",
    "\n",
    "def fahr_to_kelvin(temp):\n",
    "    return ((temp - 32) * 5/9) + 273.15\n",
    "\n",
    "c_to_f = celsius_to_fahr(60)\n",
    "\n",
    "f_to_k = fahr_to_kelvin(60)\n",
    "\n",
    "print(c_to_f)\n",
    "print(f_to_k)"
   ]
  },
  {
   "cell_type": "markdown",
   "metadata": {},
   "source": [
    "Format:\n",
    "```python\n",
    "# without parameter\n",
    "def <function name>():\n",
    "    <body>\n",
    "\n",
    "# with parameter\n",
    "def <function name>(<parameter(s)>):\n",
    "    <body>\n",
    "```\n",
    "\n",
    "a **parameter(s)** is variable(s) that are listed inside parentheses `()`\n",
    "> linguistically, `parameter == argument`"
   ]
  },
  {
   "cell_type": "code",
   "execution_count": 1,
   "metadata": {},
   "outputs": [
    {
     "name": "stdout",
     "output_type": "stream",
     "text": [
      "hello yuda 17\n"
     ]
    }
   ],
   "source": [
    "# code here\n",
    "\n",
    "# create function\n",
    "def sayHello(userName, age):\n",
    "    print(\"hello\", userName, age)\n",
    "\n",
    "# call function to use it\n",
    "sayHello(\"yuda\", 17)"
   ]
  },
  {
   "cell_type": "code",
   "execution_count": 2,
   "metadata": {},
   "outputs": [
    {
     "name": "stdout",
     "output_type": "stream",
     "text": [
      "hello world\n"
     ]
    }
   ],
   "source": [
    "def sayWorld():\n",
    "    print(\"hello world\")\n",
    "\n",
    "sayWorld()"
   ]
  },
  {
   "cell_type": "markdown",
   "metadata": {},
   "source": [
    "## Calling Function"
   ]
  },
  {
   "cell_type": "markdown",
   "metadata": {},
   "source": [
    "Format: \n",
    "```python\n",
    "# without param\n",
    "<function name>()\n",
    "\n",
    "# with param\n",
    "\"\"\" \n",
    "if a function has parameter(s), we must pass a value(s) upon calling the function\n",
    "\"\"\"\n",
    "<function name>(<value(s)>)\n",
    "```"
   ]
  },
  {
   "cell_type": "code",
   "execution_count": null,
   "metadata": {},
   "outputs": [],
   "source": [
    "# code here"
   ]
  },
  {
   "cell_type": "markdown",
   "metadata": {},
   "source": [
    "## Returning value"
   ]
  },
  {
   "cell_type": "markdown",
   "metadata": {},
   "source": [
    "Format:\n",
    "```python\n",
    "def <function name>():\n",
    "    <body>\n",
    "\n",
    "    return <value>\n",
    "```"
   ]
  },
  {
   "cell_type": "code",
   "execution_count": 9,
   "metadata": {},
   "outputs": [
    {
     "name": "stdout",
     "output_type": "stream",
     "text": [
      "john cena\n"
     ]
    }
   ],
   "source": [
    "# code here\n",
    "\n",
    "def generateName(first, last):\n",
    "    fullName = first + \" \" + last\n",
    "\n",
    "    return fullName\n",
    "\n",
    "print(generateName(\"john\", \"cena\"))"
   ]
  },
  {
   "cell_type": "code",
   "execution_count": 12,
   "metadata": {},
   "outputs": [
    {
     "name": "stdout",
     "output_type": "stream",
     "text": [
      "john cena\n"
     ]
    }
   ],
   "source": [
    "def generateName2(first, last):\n",
    "    fullName2 = first + \" \" + last\n",
    "    return fullName2\n",
    "\n",
    "person1 = generateName2(\"john\", \"cena\")\n",
    "print(person1)"
   ]
  },
  {
   "cell_type": "markdown",
   "metadata": {},
   "source": [
    "## Global & Local Variables"
   ]
  },
  {
   "cell_type": "markdown",
   "metadata": {},
   "source": [
    "- **Global** variables are those which are not defined inside any function and have a global scope (can be call everywhere)\n",
    "- **Local** variables are those which are defined inside a function and their scope is limited to that function only\n",
    "\n",
    "references: https://www.geeksforgeeks.org/global-local-variables-python/"
   ]
  },
  {
   "cell_type": "code",
   "execution_count": 9,
   "metadata": {},
   "outputs": [
    {
     "name": "stdout",
     "output_type": "stream",
     "text": [
      "2\n"
     ]
    }
   ],
   "source": [
    "# code here\n",
    "\n",
    "# define global variable\n",
    "a = \"aaaaa\"\n",
    "\n",
    "def generateName(first, last):\n",
    "    # define local variable\n",
    "    fullName = [\"hello\", \"world\"]\n",
    "    result = len(fullName)\n",
    "    return result\n",
    "\n",
    "print(generateName(\"john\", \"cena\"))"
   ]
  },
  {
   "cell_type": "code",
   "execution_count": 19,
   "metadata": {},
   "outputs": [
    {
     "name": "stdout",
     "output_type": "stream",
     "text": [
      "100\n",
      "\n",
      "999\n",
      "12\n"
     ]
    }
   ],
   "source": [
    "varX = 999 # variabel global\n",
    "\n",
    "def asdf():\n",
    "    varInside = 100 # Variabel lokal asdf()\n",
    "    print(varInside)\n",
    "\n",
    "asdf()\n",
    "print()\n",
    "# print(varInside) # Error\n",
    "print(varX)\n",
    "\n",
    "varInside = 12\n",
    "print(varInside)"
   ]
  },
  {
   "cell_type": "markdown",
   "metadata": {},
   "source": [
    "## Parameter Characteristics"
   ]
  },
  {
   "cell_type": "markdown",
   "metadata": {},
   "source": [
    "Function parameter has 2 characteristics:\n",
    "- by position\n",
    "- by name"
   ]
  },
  {
   "cell_type": "code",
   "execution_count": 23,
   "metadata": {},
   "outputs": [
    {
     "name": "stdout",
     "output_type": "stream",
     "text": [
      "hello yuda 17\n",
      "hello yuda 17\n"
     ]
    }
   ],
   "source": [
    "# code here\n",
    "\n",
    "# create function\n",
    "def sayHello(userName, age):\n",
    "    print(\"hello\", userName, age)\n",
    "\n",
    "# call function to use it\n",
    "sayHello(\"yuda\", 17) # by position\n",
    "sayHello(userName=\"yuda\", age=17) # by name"
   ]
  },
  {
   "cell_type": "code",
   "execution_count": 30,
   "metadata": {},
   "outputs": [
    {
     "name": "stdout",
     "output_type": "stream",
     "text": [
      "hello Yudha 17\n"
     ]
    }
   ],
   "source": [
    "def sayName(userName2, age2):\n",
    "    print(\"hello\", userName2, age2)\n",
    "\n",
    "sayName(age2=17, userName2=\"Yudha\")"
   ]
  },
  {
   "cell_type": "markdown",
   "metadata": {},
   "source": [
    "## Parameter Types"
   ]
  },
  {
   "cell_type": "markdown",
   "metadata": {},
   "source": [
    "### Required"
   ]
  },
  {
   "cell_type": "markdown",
   "metadata": {},
   "source": [
    "means that the parameter should be filled with value when the function is called"
   ]
  },
  {
   "cell_type": "code",
   "execution_count": 14,
   "metadata": {},
   "outputs": [
    {
     "name": "stdout",
     "output_type": "stream",
     "text": [
      "hello x 10\n"
     ]
    }
   ],
   "source": [
    "# code here\n",
    "\n",
    "# create function\n",
    "def sayHello(userName, age):\n",
    "    print(\"hello\", userName, age)\n",
    "\n",
    "sayHello(\"x\", 10)"
   ]
  },
  {
   "cell_type": "markdown",
   "metadata": {},
   "source": [
    "### Default/Optional"
   ]
  },
  {
   "cell_type": "markdown",
   "metadata": {},
   "source": [
    "means that the parameter already have a default value, but can be filled with another value when the function is called"
   ]
  },
  {
   "cell_type": "code",
   "execution_count": 32,
   "metadata": {},
   "outputs": [
    {
     "name": "stdout",
     "output_type": "stream",
     "text": [
      "hello yuda 17 secret\n",
      "hello yuda 17 jakarta\n"
     ]
    }
   ],
   "source": [
    "# code here\n",
    "\n",
    "def sayHello(userName, age, location=\"secret\"):\n",
    "    print(\"hello\", userName, age, location)\n",
    "\n",
    "sayHello(\"yuda\", 17)\n",
    "sayHello(\"yuda\", 17, \"jakarta\")"
   ]
  },
  {
   "cell_type": "code",
   "execution_count": 39,
   "metadata": {},
   "outputs": [
    {
     "name": "stdout",
     "output_type": "stream",
     "text": [
      "hello yuda 17 \n"
     ]
    },
    {
     "ename": "TypeError",
     "evalue": "sayHello() got an unexpected keyword argument 'sep'",
     "output_type": "error",
     "traceback": [
      "\u001b[1;31m---------------------------------------------------------------------------\u001b[0m",
      "\u001b[1;31mTypeError\u001b[0m                                 Traceback (most recent call last)",
      "Cell \u001b[1;32mIn[39], line 7\u001b[0m\n\u001b[0;32m      4\u001b[0m     \u001b[38;5;28mprint\u001b[39m(\u001b[38;5;124m\"\u001b[39m\u001b[38;5;124mhello\u001b[39m\u001b[38;5;124m\"\u001b[39m, userName, age, location)\n\u001b[0;32m      6\u001b[0m sayHello(\u001b[38;5;124m\"\u001b[39m\u001b[38;5;124myuda\u001b[39m\u001b[38;5;124m\"\u001b[39m, \u001b[38;5;241m17\u001b[39m)\n\u001b[1;32m----> 7\u001b[0m sayHello(\u001b[38;5;124m\"\u001b[39m\u001b[38;5;124myuda\u001b[39m\u001b[38;5;124m\"\u001b[39m, \u001b[38;5;241m17\u001b[39m, \u001b[38;5;124m\"\u001b[39m\u001b[38;5;124mjakarta\u001b[39m\u001b[38;5;124m\"\u001b[39m, sep\u001b[38;5;241m=\u001b[39m\u001b[38;5;124m\"\u001b[39m\u001b[38;5;124m;\u001b[39m\u001b[38;5;124m\"\u001b[39m)\n\u001b[0;32m      9\u001b[0m \u001b[38;5;28mprint\u001b[39m(\u001b[38;5;124m\"\u001b[39m\u001b[38;5;124mhello\u001b[39m\u001b[38;5;124m\"\u001b[39m,\u001b[38;5;124m\"\u001b[39m\u001b[38;5;124mworld\u001b[39m\u001b[38;5;124m\"\u001b[39m, sep\u001b[38;5;241m=\u001b[39m\u001b[38;5;124m\"\u001b[39m\u001b[38;5;124m|\u001b[39m\u001b[38;5;124m\"\u001b[39m)\n",
      "\u001b[1;31mTypeError\u001b[0m: sayHello() got an unexpected keyword argument 'sep'"
     ]
    }
   ],
   "source": [
    "# code here\n",
    "\n",
    "def sayHello(userName, age, location=\"\"):\n",
    "    print(\"hello\", userName, age, location)\n",
    "\n",
    "sayHello(\"yuda\", 17)\n",
    "sayHello(\"yuda\", 17, \"jakarta\")\n",
    "\n",
    "print(\"hello\",\"world\", sep=\"|\")"
   ]
  },
  {
   "cell_type": "code",
   "execution_count": 18,
   "metadata": {},
   "outputs": [
    {
     "name": "stdout",
     "output_type": "stream",
     "text": [
      "hello world\n"
     ]
    }
   ],
   "source": []
  },
  {
   "cell_type": "markdown",
   "metadata": {},
   "source": [
    "### Variable-Length"
   ]
  },
  {
   "cell_type": "markdown",
   "metadata": {},
   "source": [
    "- non-keyword (*args)\n",
    "    - is used to pass `N` number of values when calling a function.\n",
    "    - These arguments are collected into a **tuple** within the function.\n",
    "    - example:\n",
    "        ```python\n",
    "        def sum_all(*args):\n",
    "            result = 0\n",
    "            for num in args:\n",
    "                result += num\n",
    "            return result\n",
    "\n",
    "        print(sum_all(1, 2, 3, 4, 5))\n",
    "\n",
    "        # output: 15\n",
    "        ```\n",
    "- keyword (**kwargs)\n",
    "    - is used to pass `N` number of key-value pairs when calling a function.\n",
    "    - These arguments are collected into a **dictionary** within the function.\n",
    "    - example:\n",
    "        ```python\n",
    "        def display_info(**kwargs):\n",
    "            for key, value in kwargs.items():\n",
    "                print(f\"{key}: {value}\")\n",
    "        \n",
    "        display_info(name=\"Alice\", age=30, city=\"New York\")\n",
    "\n",
    "        # output\n",
    "        \"\"\"\n",
    "        name: Alice\n",
    "        age: 30\n",
    "        city: New York\n",
    "        \"\"\"\n",
    "        ```\n",
    "\n",
    "references: https://www.geeksforgeeks.org/variable-length-argument-in-python/"
   ]
  },
  {
   "cell_type": "code",
   "execution_count": 21,
   "metadata": {},
   "outputs": [
    {
     "name": "stdout",
     "output_type": "stream",
     "text": [
      "{'fullName': 'John Cena', 'age': 37, 'location': 'Texas'}\n"
     ]
    }
   ],
   "source": [
    "# code here\n",
    "\n",
    "# var-length non-keyword\n",
    "def sambungKata(*words):\n",
    "    result = \"\"\n",
    "    for w in words:\n",
    "        result += w\n",
    "\n",
    "    return result\n",
    "\n",
    "# print(sambungKata(\"hello\", \" \", \"world\"))\n",
    "\n",
    "# bentuk dictionary\n",
    "dict = {\n",
    "    \"key\" : \"\"\n",
    "}\n",
    "\n",
    "# var-length keyword\n",
    "def generateProfile(**kwargs):\n",
    "    print(kwargs)\n",
    "    for key, value in kwargs.items():\n",
    "        print(key, \":\", value)\n",
    "\n",
    "generateProfile(fullName=\"John Cena\", age=37, location=\"Texas\")"
   ]
  },
  {
   "cell_type": "markdown",
   "metadata": {},
   "source": [
    "## Anonymous Function"
   ]
  },
  {
   "cell_type": "markdown",
   "metadata": {},
   "source": [
    "Format:\n",
    "```python\n",
    "<var> = lambda <parameter(s)>: <statement>\n",
    "```"
   ]
  },
  {
   "cell_type": "code",
   "execution_count": 23,
   "metadata": {},
   "outputs": [
    {
     "name": "stdout",
     "output_type": "stream",
     "text": [
      "yuda 17\n"
     ]
    }
   ],
   "source": [
    "# code here\n",
    "\n",
    "# define anon function\n",
    "printProfile = lambda userName, age: print(userName, age)\n",
    "\n",
    "# call anon function\n",
    "printProfile(\"yuda\", 17)"
   ]
  },
  {
   "cell_type": "markdown",
   "metadata": {},
   "source": [
    "## Modules and Packages"
   ]
  },
  {
   "cell_type": "markdown",
   "metadata": {},
   "source": [
    "![](https://files.realpython.com/media/pkg4.a830d6e144bf.png)"
   ]
  },
  {
   "cell_type": "markdown",
   "metadata": {},
   "source": [
    "- **module(s)**: a **file** (.py) that contains collecion of functions and global variables\n",
    "- **package(s)**: a **folder** that contains collection of modules\n",
    "\n",
    "to import/use module or package we can use 2 kinds of syntax:\n",
    "- `import <module_name>` or `import <package_name>.<module_name>`\n",
    "- `from <module_name> import <function/variable_name>`\n",
    "\n",
    "example:\n",
    "```python\n",
    "import mymodule\n",
    "\n",
    "\"\"\" \n",
    "when calling function/variable(s) that are inside `mymodule`\n",
    "we must use this format: <module_name>.<function/variable_name>\n",
    "\"\"\"\n",
    "mymodule.greeting(\"John Cena\")\n",
    "\n",
    "# this is also applies to packages\n",
    "import mypackage.module1\n",
    "\n",
    "mypackage.module1.greeting(\"Dwayne Johnson\")\n",
    "\n",
    "\"\"\" \n",
    "but if we use the `from <module_name> import <function/variable_name>` format\n",
    "we can call the function/variable straightaway\n",
    "\"\"\"\n",
    "from module2 import greeting\n",
    "\n",
    "greeting(\"Hello\")\n",
    "```"
   ]
  },
  {
   "cell_type": "code",
   "execution_count": null,
   "metadata": {},
   "outputs": [],
   "source": [
    "# code here"
   ]
  },
  {
   "cell_type": "markdown",
   "metadata": {},
   "source": [
    "## Practice"
   ]
  },
  {
   "cell_type": "markdown",
   "metadata": {},
   "source": [
    "https://colab.research.google.com/github/FTDS-learning-materials/phase-0/blob/main/w1/P0W1D3PM_Functions%2C_Module_%26_Packages.ipynb"
   ]
  }
 ],
 "metadata": {
  "kernelspec": {
   "display_name": "base",
   "language": "python",
   "name": "python3"
  },
  "language_info": {
   "codemirror_mode": {
    "name": "ipython",
    "version": 3
   },
   "file_extension": ".py",
   "mimetype": "text/x-python",
   "name": "python",
   "nbconvert_exporter": "python",
   "pygments_lexer": "ipython3",
   "version": "3.11.5"
  },
  "orig_nbformat": 4
 },
 "nbformat": 4,
 "nbformat_minor": 2
}
