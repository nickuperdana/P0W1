{
 "cells": [
  {
   "cell_type": "markdown",
   "metadata": {},
   "source": [
    "# Conditionals and Loops"
   ]
  },
  {
   "cell_type": "markdown",
   "metadata": {},
   "source": [
    "## Conditionals"
   ]
  },
  {
   "cell_type": "markdown",
   "metadata": {},
   "source": [
    "### if"
   ]
  },
  {
   "cell_type": "code",
   "execution_count": null,
   "metadata": {},
   "outputs": [],
   "source": [
    "==\n",
    ">=\n",
    ">\n",
    "<=\n",
    "<\n",
    "!="
   ]
  },
  {
   "cell_type": "markdown",
   "metadata": {},
   "source": [
    "Format:\n",
    "```python\n",
    "if <expression>:\n",
    "    <body>\n",
    "```"
   ]
  },
  {
   "cell_type": "markdown",
   "metadata": {},
   "source": [
    "a **body** consist of one or more statements that will run when the expression is `True`"
   ]
  },
  {
   "cell_type": "code",
   "execution_count": 7,
   "metadata": {},
   "outputs": [],
   "source": [
    "# code here\n",
    "\n",
    "# operator:\n",
    "# aritmatik + - / *\n",
    "# comparison == < > !=\n",
    "# assignment =\n",
    "\n",
    "number = 10 # statement\n",
    "\n",
    "if number == (21-10):\n",
    "    # body\n",
    "    print(\"Hello\")\n",
    "    print(\"World\")\n",
    "    print(\"123\")\n",
    "    print(\"abc\")"
   ]
  },
  {
   "cell_type": "markdown",
   "metadata": {},
   "source": [
    "### if..else"
   ]
  },
  {
   "cell_type": "markdown",
   "metadata": {},
   "source": [
    "Format:\n",
    "```python\n",
    "if <expression>:\n",
    "    <statement when true>\n",
    "else:\n",
    "    <statement when false>\n",
    "```"
   ]
  },
  {
   "cell_type": "code",
   "execution_count": 16,
   "metadata": {},
   "outputs": [
    {
     "name": "stdout",
     "output_type": "stream",
     "text": [
      "tidak sama!\n"
     ]
    }
   ],
   "source": [
    "# code here\n",
    "\n",
    "number = 10 # statement\n",
    "# umur = None\n",
    "# umur = 0\n",
    "# umur += 10\n",
    "\n",
    "if number == (21-10):\n",
    "    # execute this when expression is true\n",
    "    print(\"Hello\")\n",
    "    print(\"World\")\n",
    "    print(\"123\")\n",
    "    print(\"abc\")\n",
    "else:\n",
    "    # execute this when expression is false\n",
    "    print(\"tidak sama!\")"
   ]
  },
  {
   "cell_type": "markdown",
   "metadata": {},
   "source": [
    "### if..elif..else"
   ]
  },
  {
   "cell_type": "markdown",
   "metadata": {},
   "source": [
    "elif = else if"
   ]
  },
  {
   "cell_type": "markdown",
   "metadata": {},
   "source": [
    "Format: \n",
    "```python\n",
    "if <expressionA>:\n",
    "    <statement A>\n",
    "elif <expressionB>:\n",
    "    <statement B>\n",
    "else:\n",
    "    <statement C>\n",
    "```"
   ]
  },
  {
   "cell_type": "code",
   "execution_count": 28,
   "metadata": {},
   "outputs": [
    {
     "name": "stdout",
     "output_type": "stream",
     "text": [
      "tidak sama!\n"
     ]
    }
   ],
   "source": [
    "# code here\n",
    "\n",
    "# boolean logic\n",
    "# and\n",
    "# or -> akan bernilai True jika salah satu nya bernilai True a or b\n",
    "# not\n",
    "\n",
    "number = 9 # statement\n",
    "if number == 10:\n",
    "    print(\"Hello\")\n",
    "    print(\"World\")\n",
    "    print(\"123\")\n",
    "    print(\"abc\")\n",
    "# ingin cek apakah number == 11 atau number == 13\n",
    "elif number == 11 and number <= 13:\n",
    "    print(\"number is 11 or 13\")\n",
    "else:\n",
    "    # execute this when all expression is false\n",
    "    print(\"tidak sama!\")"
   ]
  },
  {
   "cell_type": "markdown",
   "metadata": {},
   "source": [
    "### nested"
   ]
  },
  {
   "cell_type": "markdown",
   "metadata": {},
   "source": [
    "Format:\n",
    "```python\n",
    "if <expression1>:\n",
    "    if <expression2>:\n",
    "        <statement when true>\n",
    "```\n",
    "\n",
    "alternatively, in some cases, we can avoid nested by combining multiple conditions into one expression like this\n",
    "```python\n",
    "# AND\n",
    "if <condition1> and <condition2>:\n",
    "        <statement when true>\n",
    "\n",
    "# OR\n",
    "if <condition1> or <condition2>:\n",
    "        <statement when true>\n",
    "```\n",
    "reference: https://stackoverflow.com/questions/5259938/what-is-better-multiple-if-statements-or-one-if-with-multiple-conditions"
   ]
  },
  {
   "cell_type": "code",
   "execution_count": null,
   "metadata": {},
   "outputs": [],
   "source": [
    "# code here\n",
    "\n",
    "name = \"yuda\"\n",
    "\n",
    "if name == \"yuda\":\n",
    "    if len(name) > 5:\n",
    "        print(\"valid\")\n",
    "    else:\n",
    "        print(\"panjang tidak sesuai\")\n",
    "else:\n",
    "    print(\"nama tidak sesuai\")\n",
    "\n",
    "# sama\n",
    "if name == \"yuda\" and len(name) > 0:\n",
    "    print(\"valid\")\n",
    "else:\n",
    "    print(\"tidak valid\")"
   ]
  },
  {
   "cell_type": "markdown",
   "metadata": {},
   "source": [
    "### ternary operator"
   ]
  },
  {
   "cell_type": "markdown",
   "metadata": {},
   "source": [
    "Format:\n",
    "```python\n",
    "<statement when true> if <expression> else <statement when false>\n",
    "```"
   ]
  },
  {
   "cell_type": "code",
   "execution_count": 32,
   "metadata": {},
   "outputs": [
    {
     "name": "stdout",
     "output_type": "stream",
     "text": [
      "hello\n",
      "error\n"
     ]
    }
   ],
   "source": [
    "# code here\n",
    "\n",
    "name = \"yuda\"\n",
    "\n",
    "# if name == \"yuda\":\n",
    "#     print(\"hello\")\n",
    "# else:\n",
    "#     print(\"error\")\n",
    "\n",
    "# bentuk ternary\n",
    "print(\"hello\") if name == \"yuda\" else print(\"error\")"
   ]
  },
  {
   "cell_type": "markdown",
   "metadata": {},
   "source": [
    "## Loops"
   ]
  },
  {
   "cell_type": "markdown",
   "metadata": {},
   "source": [
    "### while"
   ]
  },
  {
   "cell_type": "markdown",
   "metadata": {},
   "source": [
    "Format: \n",
    "```python\n",
    "while <expression>:\n",
    "    <body>\n",
    "```"
   ]
  },
  {
   "cell_type": "code",
   "execution_count": 46,
   "metadata": {},
   "outputs": [
    {
     "name": "stdout",
     "output_type": "stream",
     "text": [
      "number is 1\n",
      "number is 2\n",
      "number is 3\n",
      "number is 4\n",
      "number is 5\n",
      "number is 6\n",
      "number is 7\n",
      "number is 8\n",
      "number is 9\n",
      "number is 10\n"
     ]
    }
   ],
   "source": [
    "# code here\n",
    "\n",
    "number = 1\n",
    "\n",
    "while number <= 10:\n",
    "    print(f\"number is {number}\")\n",
    "    number = number + 1"
   ]
  },
  {
   "cell_type": "markdown",
   "metadata": {},
   "source": [
    "### while..else"
   ]
  },
  {
   "cell_type": "markdown",
   "metadata": {},
   "source": [
    "Format: \n",
    "```python\n",
    "while <expression>:\n",
    "    <statement when true>\n",
    "else:\n",
    "    <statement when false>\n",
    "```"
   ]
  },
  {
   "cell_type": "code",
   "execution_count": 51,
   "metadata": {},
   "outputs": [
    {
     "name": "stdout",
     "output_type": "stream",
     "text": [
      "number is 1\n",
      "number is 2\n",
      "number is 3\n",
      "number is 4\n",
      "number is 5\n",
      "number is 6\n",
      "number is 7\n",
      "number is 8\n",
      "number is 9\n",
      "number is 10\n",
      "loop selesai\n"
     ]
    }
   ],
   "source": [
    "# code here\n",
    "number = 1\n",
    "\n",
    "while number <= 10:\n",
    "    print(f\"number is {number}\")\n",
    "    number = number + 1\n",
    "else:\n",
    "    print(\"loop selesai\")"
   ]
  },
  {
   "cell_type": "code",
   "execution_count": null,
   "metadata": {},
   "outputs": [],
   "source": [
    "# code here"
   ]
  },
  {
   "cell_type": "markdown",
   "metadata": {},
   "source": [
    "### for"
   ]
  },
  {
   "cell_type": "markdown",
   "metadata": {},
   "source": [
    "Format:\n",
    "```python\n",
    "for <var> in <iterable>:\n",
    "    <body>\n",
    "```\n",
    "\n",
    "- an **iterable** is `List`, `Tuple`, or `Dictionary`\n",
    "- a **var** is a variable that will have a value in every loop"
   ]
  },
  {
   "cell_type": "code",
   "execution_count": 56,
   "metadata": {},
   "outputs": [
    {
     "name": "stdout",
     "output_type": "stream",
     "text": [
      "1\n",
      "2\n",
      "3\n",
      "4\n",
      "5\n",
      "6\n"
     ]
    }
   ],
   "source": [
    "# code here\n",
    "# if 1 in [1,2,3,4,5]:\n",
    "#     print(\"true\")\n",
    "\n",
    "for asdf in [1,2,3,4,5,6]:\n",
    "    print(asdf)"
   ]
  },
  {
   "cell_type": "markdown",
   "metadata": {},
   "source": [
    "### ternary for"
   ]
  },
  {
   "cell_type": "markdown",
   "metadata": {},
   "source": [
    "Format: \n",
    "```python\n",
    "# default\n",
    "[<statement> for <var> in <iterable>]\n",
    "\n",
    "# with expression\n",
    "[<statement> for <var> in <iterable> if <expression>]\n",
    "```"
   ]
  },
  {
   "cell_type": "code",
   "execution_count": 60,
   "metadata": {},
   "outputs": [
    {
     "data": {
      "text/plain": [
       "10"
      ]
     },
     "execution_count": 60,
     "metadata": {},
     "output_type": "execute_result"
    }
   ],
   "source": [
    "number = 10\n",
    "\n",
    "number"
   ]
  },
  {
   "cell_type": "code",
   "execution_count": 59,
   "metadata": {},
   "outputs": [
    {
     "name": "stdout",
     "output_type": "stream",
     "text": [
      "1\n",
      "2\n",
      "3\n",
      "4\n",
      "5\n",
      "6\n"
     ]
    },
    {
     "data": {
      "text/plain": [
       "[None, None, None, None, None, None]"
      ]
     },
     "execution_count": 59,
     "metadata": {},
     "output_type": "execute_result"
    }
   ],
   "source": [
    "# code here\n",
    "\n",
    "for asdf in [1,2,3,4,5,6]:\n",
    "    print(asdf)\n",
    "\n",
    "# sama\n",
    "[print(asdf) for asdf in [1,2,3,4,5,6]]"
   ]
  },
  {
   "cell_type": "markdown",
   "metadata": {},
   "source": [
    "### nested loop"
   ]
  },
  {
   "cell_type": "code",
   "execution_count": 73,
   "metadata": {},
   "outputs": [
    {
     "name": "stdout",
     "output_type": "stream",
     "text": [
      "1 \n",
      "2 abc\n",
      "3 \n"
     ]
    }
   ],
   "source": [
    "# code here\n",
    "\n",
    "for x in [1,2,3]:\n",
    "    print(x, end=' ')\n",
    "\n",
    "    if x == 2:\n",
    "        for y in [\"a\",\"b\",\"c\"]:\n",
    "            print(y, end='')\n",
    "\n",
    "    print()"
   ]
  },
  {
   "cell_type": "markdown",
   "metadata": {},
   "source": [
    "### `break` and `continue`"
   ]
  },
  {
   "cell_type": "markdown",
   "metadata": {},
   "source": [
    "- `break`: terminate the loop entirely\n",
    "- `continue`: terminate current process/iteration"
   ]
  },
  {
   "cell_type": "markdown",
   "metadata": {},
   "source": [
    "Example:\n",
    "```python\n",
    "x = 0 # initialize x with 0\n",
    "while True:\n",
    "    x += 1 # increment x with 1 in every iteration\n",
    "    \n",
    "    \"\"\" \n",
    "    here we check x value if it is 3 then \n",
    "    the current iteration will be terminated\n",
    "    \"\"\"\n",
    "    if x == 3:\n",
    "        continue\n",
    "\n",
    "    \"\"\" \n",
    "    here we check x value if it is 5 then \n",
    "    the loop will be terminated\n",
    "    \"\"\"\n",
    "    if x == 5:\n",
    "        break\n",
    "\n",
    "    print(x)\n",
    "```"
   ]
  },
  {
   "cell_type": "code",
   "execution_count": 81,
   "metadata": {},
   "outputs": [
    {
     "name": "stdout",
     "output_type": "stream",
     "text": [
      "1\n",
      "2\n",
      "3\n",
      "4\n",
      "6\n",
      "7\n",
      "8\n",
      "9\n",
      "10\n"
     ]
    }
   ],
   "source": [
    "# code here\n",
    "\n",
    "# for asdf in [1,2,3,4,5,6,7,8,9,10]:\n",
    "#     if asdf == 5:\n",
    "#         # break\n",
    "#         continue\n",
    "\n",
    "#     print(asdf)"
   ]
  },
  {
   "cell_type": "code",
   "execution_count": 86,
   "metadata": {},
   "outputs": [
    {
     "name": "stdout",
     "output_type": "stream",
     "text": [
      "hello\n",
      "world\n"
     ]
    }
   ],
   "source": [
    "# menu tipis2\n",
    "while True:\n",
    "    userInput = input(\"pilih menu 1, 2, atau 3\")\n",
    "\n",
    "    # jike user input 1\n",
    "    if userInput == \"1\":\n",
    "        print(\"hello\")\n",
    "    elif userInput == \"2\":\n",
    "        print(\"world\")\n",
    "    else: \n",
    "        break"
   ]
  },
  {
   "cell_type": "markdown",
   "metadata": {},
   "source": [
    "pilih menu\n",
    "1. output hello\n",
    "2. output world\n",
    "3. shutdown program"
   ]
  },
  {
   "cell_type": "markdown",
   "metadata": {},
   "source": [
    "## Practice"
   ]
  },
  {
   "cell_type": "markdown",
   "metadata": {},
   "source": [
    "https://colab.research.google.com/github/FTDS-learning-materials/phase-0/blob/main/w1/P0W1D3AM_Conditions_and_Loops.ipynb"
   ]
  }
 ],
 "metadata": {
  "kernelspec": {
   "display_name": "Python 3",
   "language": "python",
   "name": "python3"
  },
  "language_info": {
   "codemirror_mode": {
    "name": "ipython",
    "version": 3
   },
   "file_extension": ".py",
   "mimetype": "text/x-python",
   "name": "python",
   "nbconvert_exporter": "python",
   "pygments_lexer": "ipython3",
   "version": "3.11.5"
  },
  "orig_nbformat": 4
 },
 "nbformat": 4,
 "nbformat_minor": 2
}
