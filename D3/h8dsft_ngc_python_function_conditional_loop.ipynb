{
 "cells": [
  {
   "cell_type": "markdown",
   "metadata": {},
   "source": [
    "--- \n",
    "  \n",
    "Name : Nicku R. Perdana  \n",
    "Batch : HCK-012  \n",
    "\n",
    "Program ini diperuntukkan untuk menjalankan beberapa task dalam Non-graded Challenge 2\n",
    "  \n",
    "---"
   ]
  },
  {
   "cell_type": "markdown",
   "metadata": {},
   "source": [
    "# Task 1  \n",
    "\n",
    "Create a function that count the number of word in a sentence.  \n",
    "\n",
    "Instruction:\n",
    "1. Create function called `number_of_word`.\n",
    "2. This function takes 1 input, `sentence`.\n",
    "3. Inside this function, you can utilize `.split()` method to split the sentence into list of word(s).\n",
    "4. Also, `len()` function to count the element inside a list.\n",
    "5. Return the number of word from the sentence.  \n",
    "  \n",
    "\n",
    "Example:\n",
    "- Input: number_of_word(sentence = ’Hello World!’)\n",
    "- Output: 2  \n",
    "- Input: number_of_word(sentence = ’Once Upon a Time in a faraway land’)\n",
    "- Output: 8\n"
   ]
  },
  {
   "cell_type": "code",
   "execution_count": 56,
   "metadata": {},
   "outputs": [
    {
     "name": "stdout",
     "output_type": "stream",
     "text": [
      "Input 1: 'Hello World!'\n",
      "Number of word(s): 2\n",
      "\n",
      "Input 2: 'Once Upon a Time in a faraway land'\n",
      "Number of word(s): 8\n"
     ]
    }
   ],
   "source": [
    "def number_of_word(sentence):\n",
    "    words = sentence.split()\n",
    "    lenWords = len(words)\n",
    "    return print(f\"Number of word(s): {lenWords}\")\n",
    "\n",
    "print(\"Input 1: 'Hello World!'\")\n",
    "number_of_word(\"Hello World!\")\n",
    "print()\n",
    "print(\"Input 2: 'Once Upon a Time in a faraway land'\")\n",
    "number_of_word(\"Once Upon a Time in a faraway land\")\n"
   ]
  },
  {
   "cell_type": "markdown",
   "metadata": {},
   "source": [
    "# Task 2  \n",
    "\n",
    "Create a function that will get list of number(s) from a certain range that multiples of given number.  \n",
    "Instruction:\n",
    "1. Create function called `find_multiples`. \n",
    "2. This function takes 3 input: `start_range`, `end_range`, and `multiple`.\n",
    "3. From every number within the given range, check if that number is the mutliples of `multiple`.\n",
    "4. Return list of the possible multiple number(s).  \n",
    "\n",
    "Example:\n",
    "- Input: find_multiple(start_range= 1, end_range= 20, multiple= 5)\n",
    "- Output: [5, 10, 15, 20]\n",
    "- Input: find_multiple(start_range= 1, end_range= 50, multiple= 10)\n",
    "- Output: [10, 20, 30, 40, 50]\n"
   ]
  },
  {
   "cell_type": "code",
   "execution_count": 66,
   "metadata": {},
   "outputs": [
    {
     "name": "stdout",
     "output_type": "stream",
     "text": [
      "Input: find_multiple(start_range=1, end_range=20, multiple=5)\n",
      "Output: [5, 10, 15, 20]\n",
      "\n",
      "Input: find_multiple(start_range=1, end_range=50, multiple=10)\n",
      "Output: [10, 20, 30, 40, 50]\n"
     ]
    }
   ],
   "source": [
    "def find_multiples(start_range, end_range, multiple):\n",
    "    numberRange = list(range(start_range, end_range + 1))\n",
    "    \n",
    "    myList = []\n",
    "    for check in numberRange:\n",
    "        if not check%multiple == 0:\n",
    "            continue\n",
    "        else:\n",
    "            myList.append(check)\n",
    "    \n",
    "    return myList \n",
    "\n",
    "\n",
    "print(\"Input: find_multiple(start_range=1, end_range=20, multiple=5)\")\n",
    "firstOutput = find_multiples(start_range=1, end_range=20, multiple=5)\n",
    "print(f\"Output: {firstOutput}\")\n",
    "print()\n",
    "print(\"Input: find_multiple(start_range=1, end_range=50, multiple=10)\")\n",
    "firstOutput = find_multiples(start_range=1, end_range=50, multiple=10)\n",
    "print(f\"Output: {firstOutput}\")"
   ]
  },
  {
   "cell_type": "markdown",
   "metadata": {},
   "source": [
    "# Task 3  \n",
    "  \n",
    "Create a function that will convert student’s grade to GPA.  \n",
    "  \n",
    "Instruction:\n",
    "1. Create function called `Grade_Converter`.\n",
    "2. This function takes input: `convert_to` and n-paired of student(s) name with its respective score.\n",
    "3. Input argument for `convert_to` is either `letter_grade` or `gpa`.\n",
    "4. You can utilize **kwargs input argument to generate n-length paired of student(s) name with its respective score (Dictionary).\n",
    "5. This function will return dictionary of student’s name along with converted Letter Grade or GPA, depending on user input in `convert_to` parameter.  \n",
    "\n",
    "Example 1:\n",
    "- Input: `Grade_Converter(convert_to='gpa', Adam=62, Faiz=91)`\n",
    "- Output: `{'Adam': 2.5, 'Faiz': 4}`  \n",
    "\n",
    "Example 2:\n",
    "- Input: `Grade_Converter(convert_to='letter_grade', Albert=90, Dwi=82, Syahdan=58, Veronica=84)`\n",
    "- Output: `{'Albert': 'A', 'Dwi': 'B', 'Syahdan': 'D','Veronica': 'B'}`"
   ]
  },
  {
   "cell_type": "code",
   "execution_count": 55,
   "metadata": {},
   "outputs": [
    {
     "name": "stdout",
     "output_type": "stream",
     "text": [
      "{'Adam': '2.5', 'Faiz': '4'}\n",
      "\n",
      "{'Albert': 'A', 'Dwi': 'B', 'Syahdan': 'D', 'Veronica': 'B'}\n"
     ]
    }
   ],
   "source": [
    "def Grade_Converter(convert_to, **kwargs):\n",
    "    \n",
    "    newDict = {}\n",
    "    \n",
    "    if convert_to == \"letter_grade\":\n",
    "        for i in kwargs.keys():\n",
    "            if kwargs[i] >= 100:\n",
    "                print(f\"{i}'s score is above 100. Check again.\")\n",
    "                break\n",
    "            elif kwargs[i] >= 85:    \n",
    "                newDict[i] = \"A\"\n",
    "            elif kwargs[i] >= 70:\n",
    "                newDict[i] = \"B\"\n",
    "            elif kwargs[i] >= 60:\n",
    "                newDict[i] = \"C\"\n",
    "            elif kwargs[i] >= 50:\n",
    "                newDict[i] = \"D\"\n",
    "            elif kwargs[i] >= 40:\n",
    "                newDict[i] = \"E\"\n",
    "            elif kwargs[i] >= 0:\n",
    "                newDict[i] = \"F\"\n",
    "            else:\n",
    "                print(f\"{i}'s score is negative. Check again.\")\n",
    "    \n",
    "    if convert_to == \"gpa\":\n",
    "        for i in kwargs.keys():\n",
    "            if kwargs[i] >= 100:\n",
    "                print(f\"{i}'s score is above 100. Check again.\")\n",
    "                break\n",
    "            elif kwargs[i] >= 85:\n",
    "                newDict[i] = \"4\"\n",
    "            elif kwargs[i] >= 70:\n",
    "                newDict[i] = \"3.5\"\n",
    "            elif kwargs[i] >= 60:\n",
    "                newDict[i] = \"2.5\"\n",
    "            elif kwargs[i] >= 50:\n",
    "                newDict[i] = \"2\"\n",
    "            elif kwargs[i] >= 40:\n",
    "                newDict[i] = \"1.5\"\n",
    "            elif kwargs[i] >= 0:\n",
    "                newDict[i] = \"1\"\n",
    "            else:\n",
    "                print(f\"{i}'s score is negative. Check again.\")\n",
    "    return newDict\n",
    "\n",
    "\n",
    "print(Grade_Converter(convert_to=\"gpa\", Adam=61, Faiz=91))\n",
    "print()\n",
    "print(Grade_Converter(convert_to=\"letter_grade\", Albert=90, Dwi=82, Syahdan=58, Veronica=84))"
   ]
  },
  {
   "cell_type": "markdown",
   "metadata": {},
   "source": [
    "# Task 4  \n",
    "\n",
    "Fibonacci sequence is a sequence in which each number is the sum of the two preceding ones. Suppose we have fibonacci sequence started with:  \n",
    "0, 1, 1, 2, 3, 5, ...  \n",
    "\n",
    "The next number should be 8 or sum of the two precedings, 3 and 5:  \n",
    "0, 1, 1, 2, 3, 5, 8, ...  \n",
    "\n",
    "Then the next number should be 13 or sum of the two precedings, 5 and 8:  \n",
    "0, 1, 1, 2, 3, 5, 8, 13,  ...  \n",
    "\n",
    "And so on.\n",
    "\n",
    "\n",
    "\n",
    "create a function that will return the value of n-th fibonacci number.  \n",
    "\n",
    "---\n",
    "\n",
    "### Instruction:\n",
    "1. The function will take 1 input parameter, n, represents the asked number from our fibonacci sequence index.\n",
    "2. The fibonacci sequence will start with the value of 0 and 1.\n",
    "3. This function will return the n-th value from fibonacci sequence."
   ]
  },
  {
   "cell_type": "code",
   "execution_count": 24,
   "metadata": {},
   "outputs": [],
   "source": [
    "def fibo(n):\n",
    "    rangeFibonacci = n + 1\n",
    "    \n",
    "    fibonacciSeq = []\n",
    "    \n",
    "    if n <= 1:\n",
    "        return n\n",
    "    else:\n",
    "        for sequence in range(rangeFibonacci):\n",
    "            if sequence == 0 or sequence == 1:\n",
    "                fibonacciSeq.append(sequence)\n",
    "            else:\n",
    "                value = fibonacciSeq[-1] + fibonacciSeq[-2]\n",
    "                fibonacciSeq.append(value)\n",
    "                \n",
    "    \n",
    "    return print(f'Fibonacci sequence of {n} is {fibonacciSeq[-1]}')"
   ]
  },
  {
   "cell_type": "code",
   "execution_count": 25,
   "metadata": {},
   "outputs": [
    {
     "name": "stdout",
     "output_type": "stream",
     "text": [
      "Fibonacci sequence of 10 is 55\n"
     ]
    }
   ],
   "source": [
    "fibo(10)"
   ]
  }
 ],
 "metadata": {
  "kernelspec": {
   "display_name": "base",
   "language": "python",
   "name": "python3"
  },
  "language_info": {
   "codemirror_mode": {
    "name": "ipython",
    "version": 3
   },
   "file_extension": ".py",
   "mimetype": "text/x-python",
   "name": "python",
   "nbconvert_exporter": "python",
   "pygments_lexer": "ipython3",
   "version": "3.11.5"
  }
 },
 "nbformat": 4,
 "nbformat_minor": 2
}
