{
 "cells": [
  {
   "cell_type": "markdown",
   "metadata": {},
   "source": [
    "--- \n",
    "  \n",
    "Name : Nicku R. Perdana\n",
    "Batch : HCK-012  \n",
    "  \n",
    "---"
   ]
  },
  {
   "cell_type": "markdown",
   "metadata": {},
   "source": [
    "# Task 1  \n",
    "\n",
    "Create a function that count the number of word in a sentence.  \n",
    "\n",
    "Instruction:\n",
    "1. Create function called `number_of_word`.\n",
    "2. This function takes 1 input, `sentence`.\n",
    "3. Inside this function, you can utilize `.split()` method to split the sentence into list of word(s).\n",
    "4. Also, `len()` function to count the element inside a list.\n",
    "5. Return the number of word from the sentence.  \n",
    "  \n",
    "\n",
    "Example:\n",
    "- Input: number_of_word(sentence = ’Hello World!’)\n",
    "- Output: 2  \n",
    "- Input: number_of_word(sentence = ’Once Upon a Time in a faraway land’)\n",
    "- Output: 8\n"
   ]
  },
  {
   "cell_type": "code",
   "execution_count": 56,
   "metadata": {},
   "outputs": [
    {
     "name": "stdout",
     "output_type": "stream",
     "text": [
      "Input 1: 'Hello World!'\n",
      "Number of word(s): 2\n",
      "\n",
      "Input 2: 'Once Upon a Time in a faraway land'\n",
      "Number of word(s): 8\n"
     ]
    }
   ],
   "source": [
    "def number_of_word(sentence):\n",
    "    words = sentence.split()\n",
    "    lenWords = len(words)\n",
    "    return print(f\"Number of word(s): {lenWords}\")\n",
    "\n",
    "print(\"Input 1: 'Hello World!'\")\n",
    "number_of_word(\"Hello World!\")\n",
    "print()\n",
    "print(\"Input 2: 'Once Upon a Time in a faraway land'\")\n",
    "number_of_word(\"Once Upon a Time in a faraway land\")\n"
   ]
  },
  {
   "cell_type": "markdown",
   "metadata": {},
   "source": [
    "# Task 2  \n",
    "\n",
    "Create a function that will get list of number(s) from a certain range that multiples of given number.  \n",
    "Instruction:\n",
    "1. Create function called `find_multiples`. \n",
    "2. This function takes 3 input: `start_range`, `end_range`, and `multiple`.\n",
    "3. From every number within the given range, check if that number is the mutliples of `multiple`.\n",
    "4. Return list of the possible multiple number(s).  \n",
    "\n",
    "Example:\n",
    "- Input: find_multiple(start_range= 1, end_range= 20, multiple= 5)\n",
    "- Output: [5, 10, 15, 20]\n",
    "- Input: find_multiple(start_range= 1, end_range= 50, multiple= 10)\n",
    "- Output: [10, 20, 30, 40, 50]\n"
   ]
  },
  {
   "cell_type": "code",
   "execution_count": 134,
   "metadata": {},
   "outputs": [
    {
     "name": "stdout",
     "output_type": "stream",
     "text": [
      "5\n",
      "10\n",
      "15\n",
      "20\n",
      "\n",
      "10\n",
      "20\n",
      "30\n",
      "40\n",
      "50\n"
     ]
    }
   ],
   "source": [
    "def find_multiples(start_range, end_range, multiple):\n",
    "    qwerty = list(range(start_range, end_range + 1))\n",
    "    \n",
    "    for asdf in qwerty:\n",
    "        if asdf%multiple != 0:\n",
    "            continue\n",
    "        \n",
    "        print(asdf)\n",
    "        \n",
    "find_multiples(1, 20, 5)\n",
    "print()\n",
    "find_multiples(1, 50, 10)\n",
    "\n",
    "# rangeMultiple = find_multiples(1, 20, 5)\n",
    "# listNum = list(rangeMultiple)\n",
    "# print(listNum)\n",
    "\n",
    "# for asdf in listNum:\n",
    "#     if asdf%5 != 0:\n",
    "#         continue\n",
    "    \n",
    "#     print(asdf)\n",
    "# for divisible_by_num in listNum:\n",
    "#     if divisible_by_num % mul"
   ]
  },
  {
   "cell_type": "code",
   "execution_count": null,
   "metadata": {},
   "outputs": [],
   "source": []
  }
 ],
 "metadata": {
  "kernelspec": {
   "display_name": "base",
   "language": "python",
   "name": "python3"
  },
  "language_info": {
   "codemirror_mode": {
    "name": "ipython",
    "version": 3
   },
   "file_extension": ".py",
   "mimetype": "text/x-python",
   "name": "python",
   "nbconvert_exporter": "python",
   "pygments_lexer": "ipython3",
   "version": "3.11.5"
  }
 },
 "nbformat": 4,
 "nbformat_minor": 2
}
