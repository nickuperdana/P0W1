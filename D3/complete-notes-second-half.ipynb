{
 "cells": [
  {
   "cell_type": "markdown",
   "metadata": {},
   "source": [
    "# Python Function"
   ]
  },
  {
   "cell_type": "markdown",
   "metadata": {},
   "source": [
    "## Definition"
   ]
  },
  {
   "cell_type": "markdown",
   "metadata": {},
   "source": [
    "A **function** is a set of instructions that does specific job"
   ]
  },
  {
   "cell_type": "code",
   "execution_count": 14,
   "metadata": {},
   "outputs": [
    {
     "data": {
      "text/plain": [
       "682.0"
      ]
     },
     "execution_count": 14,
     "metadata": {},
     "output_type": "execute_result"
    }
   ],
   "source": [
    "def celsius_to_fahr(temp):\n",
    "    return 9/5 * temp + 32\n",
    "\n",
    "def fahr_to_kelvin(temp):\n",
    "    return 9 * temp + 70\n",
    "\n",
    "fahrenheit = celsius_to_fahr(20)\n",
    "\n",
    "fahr_to_kelvin(fahrenheit)"
   ]
  },
  {
   "cell_type": "markdown",
   "metadata": {},
   "source": [
    "![](https://geo-python.github.io/2017/_images/Function_anatomy.png)"
   ]
  },
  {
   "cell_type": "markdown",
   "metadata": {},
   "source": [
    "Format:\n",
    "```python\n",
    "# without parameter\n",
    "def <function name>():\n",
    "    <body>\n",
    "\n",
    "# with parameter\n",
    "def <function name>(<parameter(s)>):\n",
    "    <body>\n",
    "```\n",
    "\n",
    "a **parameter(s)** is variable(s) that are listed inside parentheses `()`\n",
    "> linguistically, `parameter == argument`"
   ]
  },
  {
   "cell_type": "code",
   "execution_count": 3,
   "metadata": {},
   "outputs": [
    {
     "name": "stdout",
     "output_type": "stream",
     "text": [
      "hello world\n"
     ]
    }
   ],
   "source": [
    "# code here\n",
    "\n",
    "def sayWorld():\n",
    "    print(\"hello world\")\n",
    "\n",
    "# create function\n",
    "def sayHello(userName, age):\n",
    "    print(\"hello\", userName, age)\n",
    "\n",
    "# calling a function\n",
    "sayHello(\"yuda\", 17)\n",
    "sayWorld()"
   ]
  },
  {
   "cell_type": "markdown",
   "metadata": {},
   "source": [
    "## Calling Function"
   ]
  },
  {
   "cell_type": "markdown",
   "metadata": {},
   "source": [
    "Format: \n",
    "```python\n",
    "# without param\n",
    "<function name>()\n",
    "\n",
    "# with param\n",
    "\"\"\" \n",
    "if a function has parameter(s), we must pass a value(s) upon calling the function\n",
    "\"\"\"\n",
    "<function name>(<value(s)>)\n",
    "```"
   ]
  },
  {
   "cell_type": "code",
   "execution_count": null,
   "metadata": {},
   "outputs": [],
   "source": [
    "# code here"
   ]
  },
  {
   "cell_type": "markdown",
   "metadata": {},
   "source": [
    "## Returning value"
   ]
  },
  {
   "cell_type": "markdown",
   "metadata": {},
   "source": [
    "Format:\n",
    "```python\n",
    "def <function name>():\n",
    "    <body>\n",
    "\n",
    "    return <value>\n",
    "```"
   ]
  },
  {
   "cell_type": "code",
   "execution_count": 27,
   "metadata": {},
   "outputs": [
    {
     "data": {
      "text/plain": [
       "'john cena'"
      ]
     },
     "execution_count": 27,
     "metadata": {},
     "output_type": "execute_result"
    }
   ],
   "source": [
    "# code here\n",
    "\n",
    "# print(\"nama\" * 10)\n",
    "\n",
    "def generateName(first, last):\n",
    "    fullName = first + \" \" + last # concat\n",
    "\n",
    "    return first + \" \" + last\n",
    "\n",
    "person1 = generateName(\"john\", \"cena\")\n",
    "\n",
    "person1\n",
    "# print(person1)\n",
    "# print(\"john\", \"cena\")\n",
    "\n",
    "# person2 = generateName(\"john\", \"y yes papa\")"
   ]
  },
  {
   "cell_type": "markdown",
   "metadata": {},
   "source": [
    "## Global & Local Variables"
   ]
  },
  {
   "cell_type": "markdown",
   "metadata": {},
   "source": [
    "- **Global** variables are those which are not defined inside any function and have a global scope (can be call everywhere)\n",
    "- **Local** variables are those which are defined inside a function and their scope is limited to that function only\n",
    "\n",
    "references: https://www.geeksforgeeks.org/global-local-variables-python/"
   ]
  },
  {
   "cell_type": "code",
   "execution_count": 44,
   "metadata": {},
   "outputs": [
    {
     "name": "stdout",
     "output_type": "stream",
     "text": [
      "1099\n"
     ]
    }
   ],
   "source": [
    "# code here\n",
    "\n",
    "# global variable\n",
    "varX = 999\n",
    "\n",
    "def asdf():\n",
    "    # local variable\n",
    "    varInside = varX + 100\n",
    "    return varInside\n",
    "\n",
    "varX = asdf()\n",
    "print(varX)"
   ]
  },
  {
   "cell_type": "markdown",
   "metadata": {},
   "source": [
    "## Parameter Characteristics"
   ]
  },
  {
   "cell_type": "markdown",
   "metadata": {},
   "source": [
    "Function parameter has 2 characteristics:\n",
    "- by position\n",
    "- by name"
   ]
  },
  {
   "cell_type": "code",
   "execution_count": 54,
   "metadata": {},
   "outputs": [
    {
     "name": "stdout",
     "output_type": "stream",
     "text": [
      "hello yuda 17\n"
     ]
    }
   ],
   "source": [
    "# code here\n",
    "\n",
    "# create function\n",
    "def sayHello(userName, age):\n",
    "    print(\"hello\", userName, age)\n",
    "\n",
    "# call function to use it\n",
    "# sayHello(\"yuda\", 17) # by position\n",
    "# sayHello(17, \"yuda\") # by position\n",
    "\n",
    "# by name\n",
    "sayHello(age=17,userName=\"yuda\")\n"
   ]
  },
  {
   "cell_type": "markdown",
   "metadata": {},
   "source": [
    "## Parameter Types"
   ]
  },
  {
   "cell_type": "markdown",
   "metadata": {},
   "source": [
    "### Required"
   ]
  },
  {
   "cell_type": "markdown",
   "metadata": {},
   "source": [
    "means that the parameter should be filled with value when the function is called"
   ]
  },
  {
   "cell_type": "code",
   "execution_count": 56,
   "metadata": {},
   "outputs": [
    {
     "name": "stdout",
     "output_type": "stream",
     "text": [
      "hello x 10\n"
     ]
    }
   ],
   "source": [
    "# code here\n",
    "\n",
    "# create function\n",
    "def sayHello(userName, age):\n",
    "    print(\"hello\", userName, age)\n",
    "\n",
    "sayHello(\"x\", 10)"
   ]
  },
  {
   "cell_type": "markdown",
   "metadata": {},
   "source": [
    "### Default/Optional"
   ]
  },
  {
   "cell_type": "markdown",
   "metadata": {},
   "source": [
    "means that the parameter already have a default value, but can be filled with another value when the function is called"
   ]
  },
  {
   "cell_type": "code",
   "execution_count": 72,
   "metadata": {},
   "outputs": [
    {
     "name": "stdout",
     "output_type": "stream",
     "text": [
      "hello yuda 30 jakarta\n"
     ]
    }
   ],
   "source": [
    "# code here\n",
    "\n",
    "def sayHello(userName, age=30, location=\"secret\"):\n",
    "    print(\"hello\", userName, age, location)\n",
    "\n",
    "sayHello(userName=\"yuda\", location=\"jakarta\")"
   ]
  },
  {
   "cell_type": "markdown",
   "metadata": {},
   "source": [
    "### Variable-Length"
   ]
  },
  {
   "cell_type": "markdown",
   "metadata": {},
   "source": [
    "- non-keyword (*args)\n",
    "    - is used to pass `N` number of values when calling a function.\n",
    "    - These arguments are collected into a **tuple** within the function.\n",
    "    - example:\n",
    "        ```python\n",
    "        def sum_all(*args):\n",
    "            result = 0\n",
    "            for num in args:\n",
    "                result += num\n",
    "            return result\n",
    "\n",
    "        print(sum_all(1, 2, 3, 4, 5))\n",
    "\n",
    "        # output: 15\n",
    "        ```\n",
    "- keyword (**kwargs)\n",
    "    - is used to pass `N` number of key-value pairs when calling a function.\n",
    "    - These arguments are collected into a **dictionary** within the function.\n",
    "    - example:\n",
    "        ```python\n",
    "        def display_info(**kwargs):\n",
    "            for key, value in kwargs.items():\n",
    "                print(f\"{key}: {value}\")\n",
    "        \n",
    "        display_info(name=\"Alice\", age=30, city=\"New York\")\n",
    "\n",
    "        # output\n",
    "        \"\"\"\n",
    "        name: Alice\n",
    "        age: 30\n",
    "        city: New York\n",
    "        \"\"\"\n",
    "        ```\n",
    "\n",
    "references: https://www.geeksforgeeks.org/variable-length-argument-in-python/"
   ]
  },
  {
   "cell_type": "code",
   "execution_count": 82,
   "metadata": {},
   "outputs": [
    {
     "name": "stdout",
     "output_type": "stream",
     "text": [
      "revo\n",
      "25\n"
     ]
    }
   ],
   "source": [
    "# code here\n",
    "\n",
    "# function param var-length non-keyword\n",
    "def listOfStudent(*students):\n",
    "    print(students)\n",
    "\n",
    "# listOfStudent(\"aria\", \"revo\", \"hafiz\", \"ogi\", \"sam\")\n",
    "\n",
    "# function param var-length keyword\n",
    "def studentDatas(**studentData):\n",
    "    print(studentData['name'])\n",
    "    print(studentData['age'])\n",
    "\n",
    "    for data in studentData.items():\n",
    "        print(data)\n",
    "\n",
    "studentDatas(name=\"revo\", age=25)"
   ]
  },
  {
   "cell_type": "code",
   "execution_count": 98,
   "metadata": {},
   "outputs": [
    {
     "name": "stdout",
     "output_type": "stream",
     "text": [
      "dict_items([('name', 'Yuda'), ('age', 17)])\n",
      "Yuda\n",
      "17\n"
     ]
    }
   ],
   "source": [
    "# mau looping dictionary\n",
    "dict = {\"name\": \"Yuda\",\"age\": 17}\n",
    "\n",
    "print(dict.items())\n",
    "\n",
    "[\n",
    "    ('name', 'Yuda'), \n",
    "    ('age', 17)\n",
    "]\n",
    "\n",
    "for item in dict.items():\n",
    "    # print setiap value di dictionary\n",
    "    print(item[1])"
   ]
  },
  {
   "cell_type": "code",
   "execution_count": 93,
   "metadata": {},
   "outputs": [
    {
     "name": "stdout",
     "output_type": "stream",
     "text": [
      "('123', 'test')\n",
      "yuda\n"
     ]
    }
   ],
   "source": [
    "def cobaTipis(*x, name):\n",
    "    print(x)\n",
    "    print(name)\n",
    "\n",
    "cobaTipis(\"123\", \"test\", name=\"yuda\")"
   ]
  },
  {
   "cell_type": "markdown",
   "metadata": {},
   "source": [
    "## Anonymous Function"
   ]
  },
  {
   "cell_type": "code",
   "execution_count": 104,
   "metadata": {},
   "outputs": [
    {
     "name": "stdout",
     "output_type": "stream",
     "text": [
      "123\n"
     ]
    }
   ],
   "source": [
    "variableF = lambda name, age=30: print(name, age)\n",
    "\n",
    "variableF('yuda')"
   ]
  },
  {
   "cell_type": "markdown",
   "metadata": {},
   "source": [
    "Format:\n",
    "```python\n",
    "<var> = lambda <parameter(s)>: <statement>\n",
    "```"
   ]
  },
  {
   "cell_type": "code",
   "execution_count": 105,
   "metadata": {},
   "outputs": [
    {
     "name": "stdout",
     "output_type": "stream",
     "text": [
      "yuda 17\n"
     ]
    }
   ],
   "source": [
    "# code here\n",
    "\n",
    "# define anon function\n",
    "printProfile = lambda userName, age: print(userName, age)\n",
    "\n",
    "# call anon function\n",
    "printProfile(\"yuda\", 17)"
   ]
  },
  {
   "cell_type": "markdown",
   "metadata": {},
   "source": [
    "## Modules and Packages"
   ]
  },
  {
   "cell_type": "markdown",
   "metadata": {},
   "source": [
    "![](https://files.realpython.com/media/pkg4.a830d6e144bf.png)"
   ]
  },
  {
   "cell_type": "markdown",
   "metadata": {},
   "source": [
    "- **module(s)**: a **file** (.py) that contains collecion of functions and global variables\n",
    "- **package(s)**: a **folder** that contains collection of modules\n",
    "\n",
    "to import/use module or package we can use 2 kinds of syntax:\n",
    "- `import <module_name>` or `import <package_name>.<module_name>`\n",
    "- `from <module_name> import <function/variable_name>`\n",
    "\n",
    "example:\n",
    "```python\n",
    "import mymodule\n",
    "\n",
    "\"\"\" \n",
    "when calling function/variable(s) that are inside `mymodule`\n",
    "we must use this format: <module_name>.<function/variable_name>\n",
    "\"\"\"\n",
    "mymodule.greeting(\"John Cena\")\n",
    "\n",
    "# this is also applies to packages\n",
    "import mypackage.module1\n",
    "\n",
    "mypackage.module1.greeting(\"Dwayne Johnson\")\n",
    "\n",
    "\"\"\" \n",
    "but if we use the `from <module_name> import <function/variable_name>` format\n",
    "we can call the function/variable straightaway\n",
    "\"\"\"\n",
    "from module2 import greeting\n",
    "\n",
    "greeting(\"Hello\")\n",
    "```"
   ]
  },
  {
   "cell_type": "code",
   "execution_count": null,
   "metadata": {},
   "outputs": [],
   "source": [
    "# code here"
   ]
  },
  {
   "cell_type": "markdown",
   "metadata": {},
   "source": [
    "## Practice"
   ]
  },
  {
   "cell_type": "markdown",
   "metadata": {},
   "source": [
    "https://colab.research.google.com/github/FTDS-learning-materials/phase-0/blob/main/w1/P0W1D3PM_Functions%2C_Module_%26_Packages.ipynb"
   ]
  }
 ],
 "metadata": {
  "kernelspec": {
   "display_name": "base",
   "language": "python",
   "name": "python3"
  },
  "language_info": {
   "codemirror_mode": {
    "name": "ipython",
    "version": 3
   },
   "file_extension": ".py",
   "mimetype": "text/x-python",
   "name": "python",
   "nbconvert_exporter": "python",
   "pygments_lexer": "ipython3",
   "version": "3.11.5"
  },
  "orig_nbformat": 4
 },
 "nbformat": 4,
 "nbformat_minor": 2
}
