{
  "cells": [
    {
      "cell_type": "markdown",
      "metadata": {
        "id": "0wALMwlwqKCX"
      },
      "source": [
        "Assignment Objectives\n",
        "- Pembuatan flowchart dengan miro\n",
        "- Function dengan variable-length *args\n",
        "- Unit testing OOP dengan assertEqual\n",
        "\n",
        "Assignment Instruction and Cases\n",
        "Kamu diminta bantuan pemilik cafe untuk membuat fungsi yang dapat menghitung jumlah poin yang didapatkan customer ketika melakukan pembelian, cara perhitungan ialah 1 poin setiap pembelanjaan 5000 dan berlaku kelipatan. pada cafe tersebut terdapat 3 level membership yaitu, bronze, silver dan gold.\n",
        "\n",
        "\n",
        "\n",
        "1. Buatlah function yang dapat menghitung faktor pengali berdasarkan member dan hari:\n",
        "Ketentuan super poin:\n",
        "terdapat super poin pada hari Senin, Rabu, Sabtu dimana masing-masing level berbeda peningkatan\n",
        "- Gold member: poin meningkat 2x lipat\n",
        "- Silver member: poin meningkat 1.5x lipat\n",
        "- bronze member: tidak ada peningkatan\n",
        "\n",
        "2. Buatlah function yang dapat menghitung total poin yang didapat oleh pembeli, (Hint: pastikan input bisa menerima multi value *args untuk harga barang), gunakanlah loops untuk menghitung total belanja.\n",
        "\n",
        "3. Buatlah flowchart yang sesuai untuk menggambarkan algoritma dari persoalan diatas. **Flowchart dibuat menggunakan Miro**\n",
        "\n",
        "4. Untuk menguji apakah fungsi yang dibuat dengan benar, gunakan kerangka unit testing untuk menjalankan pengujian terhadap 2 kasus ini:\n",
        " - Level Member: Gold<br>\n",
        "   Prices: 35000, 25000, 100000, 13500, 3200<br>\n",
        "   Hari Pembelian: Senin<br>\n",
        "   Expected Result: 70\n",
        " - Level Member: Gold<br>\n",
        "   Prices: 35000, 25000, 100000, 13500, 3200<br>\n",
        "   Hari Pembelian: Selasa<br>\n",
        "   Expected Result: 35\n",
        " - Level Member: Silver<br>\n",
        "   Prices: 35000, 25000, 100000, 47230, 8120<br>\n",
        "   Hari Pembelian: Rabu<br>\n",
        "   Expected Result: 64\n",
        " - Level Member: Silver<br>\n",
        "   Prices: 35000, 25000, 100000, 47230, 8120<br>\n",
        "   Hari Pembelian: Kamis<br>\n",
        "   Expected Result: 43\n",
        " - Level Member: Bronze<br>\n",
        "   Prices: 35000, 25000, 10000, 12420, 18640<br>\n",
        "   Hari Pembelian: Kamis<br>\n",
        "   Expected Result: 20  \n",
        " - Level Member: Bronze<br>\n",
        "   Prices: 35000, 25000, 10000, 12420, 18640<br>\n",
        "   Hari Pembelian: Sabtu<br>\n",
        "   Expected Result: 20   \n",
        "\n",
        "**Note:**\n",
        "_Tidak perlu membuat file `.py` untuk unit testing. Cukup buat cell baru dan tulis code kerangka unit test di cell tersebut dan jalankan langsung di cell tanpa menggunakan `if __name__=='__main__'`._\n",
        "\n",
        "Dan sebagai pengganti idiom ini:\n",
        "  \n",
        "```py\n",
        "if __name__=='__main__':\n",
        "    unittest.main(argv=[''], exit=False)\n",
        "```\n"
      ]
    },
    {
      "cell_type": "markdown",
      "metadata": {
        "id": "YYx5UST4k72o"
      },
      "source": [
        "## Coba Sendiri"
      ]
    },
    {
      "cell_type": "code",
      "execution_count": 6,
      "metadata": {},
      "outputs": [],
      "source": [
        "def hitung_faktor(hari, level):\n",
        "    if hari == \"Senin\" or hari == \"Rabu\" or hari == \"Sabtu\":\n",
        "        if level == \"Gold\":\n",
        "            return 2\n",
        "        elif level == \"Silver\":\n",
        "            return 1.5\n",
        "        else:\n",
        "            return 1\n",
        "    else:\n",
        "        return 1"
      ]
    },
    {
      "cell_type": "code",
      "execution_count": 26,
      "metadata": {
        "id": "uDQtpvR4hx3J"
      },
      "outputs": [],
      "source": [
        "import math\n",
        "\n",
        "# variabel sebisa mungkin deskriptif\n",
        "\n",
        "def menghitung_jumlah_poin(hari, tipe, *list_harga):\n",
        "    total_harga = 0 #kalau mau dijumlahin semua harga, buat placeholder 0 dulu, untuk menampung total dari loop\n",
        "    \n",
        "    for harga in list_harga:\n",
        "        total_harga = total_harga + harga\n",
        "    \n",
        "    total_poin = math.floor(total_harga / 5000)\n",
        "    \n",
        "    faktor_pengali = hitung_faktor(hari, tipe)\n",
        "    \n",
        "    total_poin = math.floor(total_poin * faktor_pengali)\n",
        "    \n",
        "    return total_poin"
      ]
    },
    {
      "cell_type": "code",
      "execution_count": 27,
      "metadata": {},
      "outputs": [
        {
          "data": {
            "text/plain": [
              "70"
            ]
          },
          "execution_count": 27,
          "metadata": {},
          "output_type": "execute_result"
        }
      ],
      "source": [
        "# hitung_faktor('Senin', 'Gold')\n",
        "\n",
        "menghitung_jumlah_poin('Senin', 'Gold', 35000, 25000, 100000, 13500, 3200)"
      ]
    },
    {
      "cell_type": "code",
      "execution_count": 30,
      "metadata": {},
      "outputs": [
        {
          "name": "stderr",
          "output_type": "stream",
          "text": [
            ".\n",
            "----------------------------------------------------------------------\n",
            "Ran 1 test in 0.001s\n",
            "\n",
            "OK\n"
          ]
        }
      ],
      "source": [
        "import unittest\n",
        "\n",
        "class menghitung_jumlah_poin_test(unittest.TestCase):\n",
        "    def test_menghitung_jumlah_poin_gold_senin(self):\n",
        "        hari = \"Senin\"\n",
        "        member = \"Gold\"\n",
        "        list_harga = [35000, 25000, 100000, 13500, 3200]\n",
        "        \n",
        "        jumlah_poin = menghitung_jumlah_poin(hari, member, *list_harga)\n",
        "        self.assertEqual(jumlah_poin, 70)\n",
        "        \n",
        "if __name__=='__main__':\n",
        "    unittest.main(argv=[''], exit=False)"
      ]
    },
    {
      "cell_type": "markdown",
      "metadata": {
        "id": "deCxccLpk4qO"
      },
      "source": [
        "## Jawaban"
      ]
    },
    {
      "cell_type": "code",
      "execution_count": null,
      "metadata": {
        "id": "_pzQfvzXqGcg"
      },
      "outputs": [],
      "source": [
        "def hitung_faktor_pengali(member, hari):\n",
        "  '''\n",
        "  hitung_faktor_pengali ialah fungsi yang dibuat untuk mendapatkan faktor pengali poin yang didapatkan member\n",
        "  argument member ialah dari member yang berbelanja\n",
        "  argument hari ialah hari member berbelanja\n",
        "  return yang dihasilkan ialah faktor pengali dan bertipe data float atau int\n",
        "\n",
        "  contoh penggunaan\n",
        "  pengali = hitung_faktor_pengali('Gold', 'Senin')\n",
        "  --------\n",
        "  output pengali = 2\n",
        "  '''\n",
        "  if hari.lower() in ['senin', 'rabu', 'sabtu']:\n",
        "    if member.lower() == 'gold':\n",
        "      return 2\n",
        "    elif member.lower() == 'silver':\n",
        "      return 1.5\n",
        "    else:\n",
        "      return 1\n",
        "  else:\n",
        "    return 1"
      ]
    },
    {
      "cell_type": "code",
      "execution_count": null,
      "metadata": {
        "colab": {
          "base_uri": "https://localhost:8080/"
        },
        "id": "mwehHk6c1DJF",
        "outputId": "83192e99-4e2b-49e0-e5db-7a56929bbe88"
      },
      "outputs": [
        {
          "name": "stdout",
          "output_type": "stream",
          "text": [
            "2\n",
            "1\n"
          ]
        }
      ],
      "source": [
        "print(hitung_faktor_pengali('Gold', 'Senin'))\n",
        "print(hitung_faktor_pengali('Gold', 'Selasa'))"
      ]
    },
    {
      "cell_type": "markdown",
      "metadata": {
        "id": "hMCQM6aK1CxH"
      },
      "source": [
        "Dari hasil implementasi, dapat kita simpulkan bahwa function hitung_faktor_pengali yang dibuat kemungkinan sudah benar"
      ]
    },
    {
      "cell_type": "code",
      "execution_count": null,
      "metadata": {
        "id": "erfsqeExzA9Q"
      },
      "outputs": [],
      "source": [
        "import math\n",
        "\n",
        "def hitung_poin(member, hari, *list_harga):\n",
        "  '''\n",
        "  hitung_poin ialah fungsi yang dibuat untuk poin yang didapatkan member dari berbelanja\n",
        "  argument member merupakan dari member yang berbelanja\n",
        "  argument hari merupakan hari member berbelanja\n",
        "  argument list_harga merupakan kumpulan list harga belanjaan member\n",
        "  return yang dihasilkan ialah poin yang didapat dan bertipe data float atau int\n",
        "\n",
        "  contoh penggunaan\n",
        "  total_poin_member = hitung_poin('Gold', 'Senin', 35000, 25000, 100000, 13500, 3200)\n",
        "  --------\n",
        "  output pengali = 70\n",
        "  '''\n",
        "\n",
        "\n",
        "  pengali = hitung_faktor_pengali(member, hari)\n",
        "  total_harga_belanja = 0\n",
        "\n",
        "  for harga in list_harga:\n",
        "    total_harga_belanja += harga\n",
        "\n",
        "  total_poin = total_harga_belanja / 5000\n",
        "  total_poin = math.floor(total_poin)\n",
        "  total_poin_final = total_poin * pengali\n",
        "  total_poin_final = math.floor(total_poin_final)\n",
        "\n",
        "  return total_poin_final"
      ]
    },
    {
      "cell_type": "code",
      "execution_count": null,
      "metadata": {
        "colab": {
          "base_uri": "https://localhost:8080/"
        },
        "id": "Nt_Rwvva0SJK",
        "outputId": "456431ee-61ee-4eb8-be5f-cf114f71a544"
      },
      "outputs": [
        {
          "name": "stdout",
          "output_type": "stream",
          "text": [
            "70\n",
            "35\n"
          ]
        }
      ],
      "source": [
        "# Implementasi untuk menguji apakah function yang dibuat sudah benar\n",
        "total_poin_member_a = hitung_poin('Gold', 'Senin', 35000, 25000, 100000, 13500, 3200)\n",
        "print(total_poin_member_a)\n",
        "\n",
        "total_poin_member_b = hitung_poin('Gold', 'Selasa', 35000, 25000, 100000, 13500, 3200)\n",
        "print(total_poin_member_b)"
      ]
    },
    {
      "cell_type": "markdown",
      "metadata": {
        "id": "CdDyer1106gK"
      },
      "source": [
        "Dari hasil implementasi, dapat kita simpulkan bahwa function hitung_poin yang dibuat kemungkinan sudah benar"
      ]
    },
    {
      "cell_type": "markdown",
      "metadata": {
        "id": "SI--Xy-i1WkD"
      },
      "source": [
        "Setelah berhasil membuat function, maka kita perlu membuat kerangka unit test, agar kedepannya kualitas function yang dibuat tetap terjaga dan memastikan bahwa seluruh requirement terpenuhi"
      ]
    },
    {
      "cell_type": "code",
      "execution_count": null,
      "metadata": {
        "colab": {
          "base_uri": "https://localhost:8080/"
        },
        "id": "QiD5_T-81jju",
        "outputId": "f7b49940-853a-4faf-c7cd-361fdc91f101"
      },
      "outputs": [
        {
          "name": "stderr",
          "output_type": "stream",
          "text": [
            "test_bronze_diluar_super_poin (__main__.HitungPoinUnitTest) ... ok\n",
            "test_bronze_ketika_super_poin (__main__.HitungPoinUnitTest) ... ok\n",
            "test_gold_diluar_super_poin (__main__.HitungPoinUnitTest) ... ok\n",
            "test_gold_ketika_super_poin (__main__.HitungPoinUnitTest) ... ok\n",
            "test_silver_diluar_super_poin (__main__.HitungPoinUnitTest) ... ok\n",
            "test_silver_ketika_super_poin (__main__.HitungPoinUnitTest) ... ok\n",
            "\n",
            "----------------------------------------------------------------------\n",
            "Ran 6 tests in 0.024s\n",
            "\n",
            "OK\n"
          ]
        }
      ],
      "source": [
        "import unittest\n",
        "\n",
        "class HitungPoinUnitTest(unittest.TestCase):\n",
        "  def test_gold_ketika_super_poin(self):\n",
        "    member = 'Gold'\n",
        "    hari = 'Senin'\n",
        "    prices = (35000, 25000, 100000, 13500, 3200)\n",
        "    poin = hitung_poin(member, hari, *prices)\n",
        "    self.assertEqual(poin, 70)\n",
        "\n",
        "\n",
        "  def test_gold_diluar_super_poin(self):\n",
        "    member = 'Gold'\n",
        "    hari = 'Selasa'\n",
        "    prices = (35000, 25000, 100000, 13500, 3200)\n",
        "    poin = hitung_poin(member, hari, *prices)\n",
        "    self.assertEqual(poin, 35)\n",
        "\n",
        "\n",
        "  def test_silver_ketika_super_poin(self):\n",
        "    member = 'Silver'\n",
        "    hari = 'Rabu'\n",
        "    prices = (35000, 25000, 100000, 47230, 8120)\n",
        "    poin = hitung_poin(member, hari, *prices)\n",
        "    self.assertEqual(poin, 64)\n",
        "\n",
        "\n",
        "  def test_silver_diluar_super_poin(self):\n",
        "    member = 'Silver'\n",
        "    hari = 'Kamis'\n",
        "    prices = (35000, 25000, 100000, 47230, 8120)\n",
        "    poin = hitung_poin(member, hari, *prices)\n",
        "    self.assertEqual(poin, 43)\n",
        "\n",
        "\n",
        "  def test_bronze_diluar_super_poin(self):\n",
        "    member = 'Bronze'\n",
        "    hari = 'Kamis'\n",
        "    prices = (35000, 25000, 10000, 12420, 18640)\n",
        "    poin = hitung_poin(member, hari, *prices)\n",
        "    self.assertEqual(poin, 20)\n",
        "\n",
        "\n",
        "  def test_bronze_ketika_super_poin(self):\n",
        "    member = 'Bronze'\n",
        "    hari = 'Sabtu'\n",
        "    prices = (35000, 25000, 10000, 12420, 18640)\n",
        "    poin = hitung_poin(member, hari, *prices)\n",
        "    self.assertEqual(poin, 20)\n",
        "\n",
        "\n",
        "if __name__=='__main__':\n",
        "    unittest.main(argv=[''], verbosity=2, exit=False)"
      ]
    }
  ],
  "metadata": {
    "colab": {
      "collapsed_sections": [
        "deCxccLpk4qO"
      ],
      "provenance": []
    },
    "kernelspec": {
      "display_name": "Python 3",
      "name": "python3"
    },
    "language_info": {
      "codemirror_mode": {
        "name": "ipython",
        "version": 3
      },
      "file_extension": ".py",
      "mimetype": "text/x-python",
      "name": "python",
      "nbconvert_exporter": "python",
      "pygments_lexer": "ipython3",
      "version": "3.11.5"
    }
  },
  "nbformat": 4,
  "nbformat_minor": 0
}
