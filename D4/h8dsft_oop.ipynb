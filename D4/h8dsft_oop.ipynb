{
 "cells": [
  {
   "cell_type": "markdown",
   "metadata": {},
   "source": [
    "--- \n",
    "  \n",
    "Name : Nicku R. Perdana  \n",
    "Batch : HCK-012  \n",
    "\n",
    "Program ini diperuntukkan untuk menjalankan beberapa task dalam Non-graded Challenge 3\n",
    "  \n",
    "---"
   ]
  },
  {
   "cell_type": "markdown",
   "metadata": {},
   "source": [
    "# Task  \n",
    "\n",
    "Create a library catalog system using OOP. The system should allow users to add books to the catalog, search for books by title or author, and remove books from the catalog.  \n",
    "\n",
    "Requirements:  \n",
    "1. Each book should have a title, author, and unique identifier\n",
    "2. The system should provide the following functionality:\n",
    "- Adding a book to the catalog.\n",
    "- Searching for books by title or author.\n",
    "- Removing a book from the catalog.\n",
    "- Displaying all books in the catalog.\n",
    "3. Do the exception handling\n"
   ]
  },
  {
   "cell_type": "code",
   "execution_count": null,
   "metadata": {},
   "outputs": [],
   "source": [
    "class Catalog:\n",
    "    def __init__(self, title, author, uniqueId):\n",
    "        self.title = title\n",
    "        self.author = author\n",
    "        self.uniqueID = uniqueId\n",
    "\n",
    "class Interaction:\n",
    "    def __init__(self):\n",
    "        self.catalog = []\n",
    "    \n",
    "    def addItems(self, titleAdd, authorAdd, uniqueIdAdd):\n",
    "        \n",
    "        self.titleAdd = titleAdd\n",
    "        self.authorAdd = authorAdd\n",
    "        self.uniqueIdAdd = uniqueIdAdd\n",
    "        \n",
    "        addingEntry = Catalog(title=self.titleAdd, author= self.authorAdd, uniqueId=self.uniqueIdAdd)\n",
    "        \n",
    "        self.catalog.append(addingEntry)\n",
    "        print(f'Buku {self.titleAdd} karya {self.authorAdd} (ID: {self.uniqueIdAdd}) berhasil ditambahkan')\n",
    "\n",
    "    def searchItem(self):\n",
    "        pass\n",
    "    \n",
    "    def removingItem(entry):\n",
    "        pass\n",
    "    \n",
    "    def listBooks(self):\n",
    "        pass"
   ]
  }
 ],
 "metadata": {
  "language_info": {
   "name": "python"
  }
 },
 "nbformat": 4,
 "nbformat_minor": 2
}
