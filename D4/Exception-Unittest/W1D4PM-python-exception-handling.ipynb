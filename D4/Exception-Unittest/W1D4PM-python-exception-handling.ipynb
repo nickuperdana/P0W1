{
 "cells": [
  {
   "cell_type": "markdown",
   "metadata": {},
   "source": [
    "# Python Exception Handling and Testing"
   ]
  },
  {
   "cell_type": "markdown",
   "metadata": {},
   "source": [
    "## AssertionError"
   ]
  },
  {
   "cell_type": "code",
   "execution_count": null,
   "metadata": {},
   "outputs": [],
   "source": [
    "def kelvin_to_celsius(temp):\n",
    "    assert temp >= 0, \"Temperature cannot be negative\"\n",
    "    return temp - 273.15\n",
    "\n",
    "print(kelvin_to_celsius(-5))"
   ]
  },
  {
   "cell_type": "code",
   "execution_count": null,
   "metadata": {},
   "outputs": [],
   "source": [
    "def kelvin_to_celsius(temp):\n",
    "    try:\n",
    "        assert temp >= 0, \"Temperature cannot be negative\"\n",
    "        return temp - 273.15\n",
    "    except:\n",
    "        print(\"temperature can't below than 0\")\n",
    "\n",
    "print(kelvin_to_celsius(-5))"
   ]
  },
  {
   "cell_type": "markdown",
   "metadata": {},
   "source": [
    "## AttributeError"
   ]
  },
  {
   "cell_type": "code",
   "execution_count": null,
   "metadata": {},
   "outputs": [],
   "source": [
    "class Person:\n",
    "    def __init__(self, name):\n",
    "        self.name = name\n",
    "\n",
    "p = Person('John')\n",
    "\n",
    "p.age "
   ]
  },
  {
   "cell_type": "code",
   "execution_count": null,
   "metadata": {},
   "outputs": [],
   "source": [
    "class Person:\n",
    "    def __init__(self, name):\n",
    "        self.name = name\n",
    "\n",
    "p = Person('John')\n",
    "\n",
    "try:\n",
    "    p.age\n",
    "except:\n",
    "    print('there is no age property in object p')"
   ]
  },
  {
   "cell_type": "markdown",
   "metadata": {},
   "source": [
    "## IndexError"
   ]
  },
  {
   "cell_type": "code",
   "execution_count": null,
   "metadata": {},
   "outputs": [],
   "source": [
    "theList = ['foo', 'bar', 'baz']\n",
    "\n",
    "theList[5]"
   ]
  },
  {
   "cell_type": "code",
   "execution_count": null,
   "metadata": {},
   "outputs": [],
   "source": [
    "try:\n",
    "    theList = ['foo', 'bar', 'baz']\n",
    "\n",
    "    theList[5]\n",
    "except IndexError:\n",
    "    print(\"index requested doesn't exist\")\n",
    "except:\n",
    "    print(\"error lainnya\")\n"
   ]
  },
  {
   "cell_type": "markdown",
   "metadata": {},
   "source": [
    "## Implement try, else, except, finally"
   ]
  },
  {
   "cell_type": "code",
   "execution_count": null,
   "metadata": {},
   "outputs": [],
   "source": [
    "numbers = [1, 2, 3]\n",
    "\n",
    "for i in range(4):\n",
    "    try:\n",
    "        print(numbers[i])\n",
    "    except IndexError: \n",
    "        print(f\"Index {i} not exist!\")\n",
    "    else:\n",
    "        print(f\"Index {i} is exist\")\n",
    "    finally:\n",
    "        print(f\"iteration {i} success\")"
   ]
  },
  {
   "cell_type": "code",
   "execution_count": null,
   "metadata": {},
   "outputs": [],
   "source": [
    "def divide_numbers(a,b):\n",
    "    if b == 0:\n",
    "        raise ValueError('Cannot divide by zero')\n",
    "\n",
    "    if a > 100:\n",
    "        raise AssertionError('Divider cannot more than 100')\n",
    "\n",
    "    return a/b\n",
    "\n",
    "try:\n",
    "    result = divide_numbers(1000,10)\n",
    "    print('Result:', result)\n",
    "except ValueError as e:\n",
    "    print('Error: ', str(e))\n",
    "except Exception as e:\n",
    "    print('Error lainnya:', e)"
   ]
  },
  {
   "cell_type": "code",
   "execution_count": 1,
   "metadata": {},
   "outputs": [
    {
     "name": "stdout",
     "output_type": "stream",
     "text": [
      "3\n",
      "40\n",
      "Hanya boleh angka\n"
     ]
    }
   ],
   "source": [
    "# print(isinstance('/', int))\n",
    "def sum(a, b):\n",
    "    if(not isinstance(a, int) or not isinstance(b, int)):\n",
    "        raise ValueError('Hanya boleh angka')\n",
    "    return a + b\n",
    "\n",
    "try:\n",
    "    print(sum(2, 1))\n",
    "    print(sum(10, 30))\n",
    "    print(sum('a', 20))\n",
    "    print(sum(10, 'b'))\n",
    "except ValueError as e:\n",
    "    print(str(e))"
   ]
  }
 ],
 "metadata": {
  "kernelspec": {
   "display_name": "base",
   "language": "python",
   "name": "python3"
  },
  "language_info": {
   "codemirror_mode": {
    "name": "ipython",
    "version": 3
   },
   "file_extension": ".py",
   "mimetype": "text/x-python",
   "name": "python",
   "nbconvert_exporter": "python",
   "pygments_lexer": "ipython3",
   "version": "3.11.5"
  },
  "orig_nbformat": 4
 },
 "nbformat": 4,
 "nbformat_minor": 2
}
