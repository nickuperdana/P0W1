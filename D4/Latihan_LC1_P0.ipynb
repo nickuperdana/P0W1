{
  "cells": [
    {
      "cell_type": "markdown",
      "metadata": {
        "id": "lCHIkZZHY7w9"
      },
      "source": [
        "#### 1. Buatlah fungsi untuk menghitung `jumlah kalori terbakar` berdasarkan `jenis kegiatan` dan `durasi dalam menit`, dengan ketentuan di bawah:\n",
        "\n",
        "<div align=\"center\">\n",
        "\n",
        "|Kegiatan|Kalori Terbakar per Menit|\n",
        "|--|--|\n",
        "|Berlari|10|\n",
        "|Bersepeda|8|\n",
        "|Berenang|12|\n",
        "\n",
        "\n",
        "</div>\n",
        "\n",
        "contoh:\n",
        "```\n",
        ">>> input: calories_burned(duration=60, exercise='berenang')\n",
        ">>> output: 720\n",
        "\n",
        ">>> input: calories_burned(duration=15, exercise='berlari')\n",
        ">>> output: 150\n",
        "\n",
        ">>> input:calories_burned(duration=20, exercise='bersepeda')\n",
        ">>> output: 160\n",
        "```"
      ]
    },
    {
      "cell_type": "code",
      "execution_count": 106,
      "metadata": {
        "id": "c23SraoGn0sB"
      },
      "outputs": [],
      "source": [
        "# working area\n",
        "\n",
        "def calories_burned(duration, excercise):\n",
        "    \n",
        "    if not isinstance(duration, int):\n",
        "        return 'Isi durasi dengan angka.'\n",
        "    \n",
        "    try:\n",
        "        if excercise == \"berlari\":\n",
        "            cal_burned_per_minute = duration * 10\n",
        "        elif excercise == \"bersepeda\":\n",
        "            cal_burned_per_minute = duration * 8\n",
        "        elif excercise == \"berenang\":\n",
        "            cal_burned_per_minute = duration * 12\n",
        "        else:\n",
        "            raise ValueError\n",
        "        \n",
        "        return cal_burned_per_minute\n",
        "    except:\n",
        "        print(\"Pilih salah satu dari tiga kegiatan berikut sebagai `excercise`: 'berlari', 'bersepeda', atau 'berenang'\")\n",
        "        pass"
      ]
    },
    {
      "cell_type": "code",
      "execution_count": 107,
      "metadata": {},
      "outputs": [
        {
          "data": {
            "text/plain": [
              "60"
            ]
          },
          "execution_count": 107,
          "metadata": {},
          "output_type": "execute_result"
        }
      ],
      "source": [
        "calories_burned(duration = 5, excercise= \"berenang\")"
      ]
    },
    {
      "cell_type": "markdown",
      "metadata": {
        "id": "uVYOZdpMaRC6"
      },
      "source": [
        "#### 2. Buat function untuk menghitung `total kalori terbakar` dari `beberapa sesi latihan`, manfaatkan fungsi yang telah dibuat sebelumnya di dalam function ini.\n",
        "\n",
        "Notes:\n",
        "- Dalam kasus ini diasumsikan setiap sesi latihan memiliki durasi yang sama (`each_session_duration`).\n",
        "- Function yang dibuat memiliki input argumen berupa: `n-length jenis latihan yang dilakukan di setiap sesinya` dan `each_session_duration`\n",
        "- Manfaatkan `*args` variable-length input untuk memasukkan jenis latihan.\n",
        "- Manfaatkan function yang telah dibuat sebelumnya untuk mengitung kalori terbakar di setiap sesi\n",
        "\n",
        "Contoh:\n",
        "```\n",
        ">>> input: total_session_burned_cal('berenang', 'bersepeda', each_session_duration=10)\n",
        ">>> output: 200\n",
        "\n",
        "penjelasan:\n",
        "kegiatan berenang dilakukan 10 menit dan kegiatan bersepeda dilakukan 10 menit dapat membakar total 200 kalori\n",
        "\n",
        ">>> input: total_session_burned_cal('berenang', 'berlari', 'bersepeda', each_session_duration=5)\n",
        ">>> output: 150\n",
        "\n",
        "penjelasan:\n",
        "kegiatan berenang, berlari dan bersepeda yang masing-masing dilakukan 5 menit dapat membakar 150 kalori.\n",
        "```"
      ]
    },
    {
      "cell_type": "code",
      "execution_count": 150,
      "metadata": {
        "id": "ttZ2qwHjn3Mb"
      },
      "outputs": [],
      "source": [
        "# working area\n",
        "def total_session_burned_cal(each_session_duration, *excercise):\n",
        "    if not isinstance(each_session_duration, int):\n",
        "        return 'Isi durasi dengan angka.'\n",
        "    \n",
        "    total_session = 0\n",
        "    \n",
        "    for type in excercise:\n",
        "        try:\n",
        "            if type == 'berenang':\n",
        "                total_session = total_session + calories_burned(each_session_duration, type)\n",
        "            if type == 'bersepeda':\n",
        "                total_session = total_session + calories_burned(each_session_duration, type)\n",
        "            if type == 'berlari':\n",
        "                total_session = total_session + calories_burned(each_session_duration, type)\n",
        "            else:\n",
        "                raise ValueError\n",
        "            \n",
        "            return total_session\n",
        "        except:\n",
        "            pass    "
      ]
    },
    {
      "cell_type": "code",
      "execution_count": 151,
      "metadata": {},
      "outputs": [
        {
          "data": {
            "text/plain": [
              "150"
            ]
          },
          "execution_count": 151,
          "metadata": {},
          "output_type": "execute_result"
        }
      ],
      "source": [
        "total_session_burned_cal(5, 'berenang', 'bersepeda', 'berlari')"
      ]
    },
    {
      "cell_type": "markdown",
      "metadata": {
        "id": "rvST1Pn9h6QX"
      },
      "source": [
        "#### 3. Lakukan Unit Testing pada kedua function yang telah dibuat.\n",
        "\n",
        "  ***Notes:***\n",
        "  \n",
        "  Pengujian Unit testing dapat dilakukan pada cell .ipynb dengan cara:\n",
        "- Cukup buat cell baru dan tulis code kerangka unit test di cell tersebut dan jalankan langsung di cell tanpa menggunakan if __name__()=='__main__'.\n",
        "\n",
        "- Sebagai pengganti idiom ini:\n",
        "```\n",
        "`if __name__=='__main__'`:\n",
        "   unittest.main()\n",
        "```\n",
        "dapat menggunakan:\n",
        "```\n",
        "unittest.main(argv=[''], exit=False)\n",
        "```"
      ]
    },
    {
      "cell_type": "code",
      "execution_count": 155,
      "metadata": {
        "id": "Q5CHnIifn5-C"
      },
      "outputs": [
        {
          "name": "stderr",
          "output_type": "stream",
          "text": [
            "..\n",
            "----------------------------------------------------------------------\n",
            "Ran 2 tests in 0.005s\n",
            "\n",
            "OK\n"
          ]
        }
      ],
      "source": [
        "# working area\n",
        "import unittest\n",
        "\n",
        "class calories_burned_test(unittest.TestCase):\n",
        "    def test_calories_burned_berenang_10(self):\n",
        "        duration_time = 20\n",
        "        excercise_type = 'bersepeda'\n",
        "        \n",
        "        burned = calories_burned(duration=duration_time, excercise=excercise_type)\n",
        "        self.assertEqual(160, burned)\n",
        "        \n",
        "class total_session_burned_cal_test(unittest.TestCase):\n",
        "    def test_total_session_burned_cal(self):\n",
        "        duration_time = 5\n",
        "        list_excercise = ['berenang','bersepeda','berlari']\n",
        "        \n",
        "        total_burned = total_session_burned_cal(duration_time, *list_excercise)\n",
        "        self.assertEqual(150, total_burned)\n",
        "\n",
        "if __name__=='__main__':\n",
        "    unittest.main(argv=[''], exit=False)"
      ]
    }
  ],
  "metadata": {
    "colab": {
      "provenance": []
    },
    "kernelspec": {
      "display_name": "Python 3",
      "name": "python3"
    },
    "language_info": {
      "codemirror_mode": {
        "name": "ipython",
        "version": 3
      },
      "file_extension": ".py",
      "mimetype": "text/x-python",
      "name": "python",
      "nbconvert_exporter": "python",
      "pygments_lexer": "ipython3",
      "version": "3.11.5"
    }
  },
  "nbformat": 4,
  "nbformat_minor": 0
}
