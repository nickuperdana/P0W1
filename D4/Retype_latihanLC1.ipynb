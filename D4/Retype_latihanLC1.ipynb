{
 "cells": [
  {
   "cell_type": "code",
   "execution_count": 8,
   "metadata": {},
   "outputs": [],
   "source": [
    "def kaloriTerbakar(aktivitas, durasi):\n",
    "    \n",
    "    if not isinstance(durasi, int):\n",
    "        return 'mohon isi durasi dengan angka integer'\n",
    "    else:\n",
    "        try:\n",
    "            if aktivitas == 'berlari':\n",
    "                jumlahKaloriTerbakar = durasi * 10\n",
    "            elif aktivitas == 'berenang':\n",
    "                jumlahKaloriTerbakar = durasi * 8\n",
    "            elif aktivitas == 'bersepeda':\n",
    "                jumlahKaloriTerbakar = durasi * 12\n",
    "            \n",
    "            return jumlahKaloriTerbakar\n",
    "        except:\n",
    "            return 'Mohon pilih satu di antara tiga aktivitas berikut: \"berlari\", \"berenang\", \"bersepeda\"'    "
   ]
  },
  {
   "cell_type": "code",
   "execution_count": 14,
   "metadata": {},
   "outputs": [
    {
     "data": {
      "text/plain": [
       "1584"
      ]
     },
     "execution_count": 14,
     "metadata": {},
     "output_type": "execute_result"
    }
   ],
   "source": [
    "kaloriTerbakar(durasi=198, aktivitas='berenang')"
   ]
  },
  {
   "cell_type": "code",
   "execution_count": 49,
   "metadata": {},
   "outputs": [],
   "source": [
    "def totalKaloriTerbakar(totalDurasi, *aktivitas2):\n",
    "    \n",
    "    keseluruhanKaloriTerbakar = 0\n",
    "    \n",
    "    if not isinstance(totalDurasi, int):\n",
    "        return 'Mohon isi durasi aktivitas dengan angka integer'\n",
    "    \n",
    "    try:\n",
    "        for jenis in aktivitas2:\n",
    "            if jenis == 'berlari':\n",
    "                keseluruhanKaloriTerbakar += kaloriTerbakar(aktivitas=jenis, durasi=totalDurasi)\n",
    "            elif jenis == 'berenang':\n",
    "                keseluruhanKaloriTerbakar += kaloriTerbakar(aktivitas=jenis, durasi=totalDurasi)\n",
    "            elif jenis == 'bersepeda':\n",
    "                keseluruhanKaloriTerbakar += kaloriTerbakar(aktivitas=jenis, durasi=totalDurasi)\n",
    "            else:\n",
    "                return 'Salah satu atau beberapa input aktivitas tidak sama dengan \"berlari\", \"berenang\", atau \"bersepeda\"'\n",
    "            \n",
    "        return keseluruhanKaloriTerbakar\n",
    "    except:\n",
    "        return 'Input Error. Coba lagi.'"
   ]
  },
  {
   "cell_type": "code",
   "execution_count": 55,
   "metadata": {},
   "outputs": [
    {
     "data": {
      "text/plain": [
       "600"
      ]
     },
     "execution_count": 55,
     "metadata": {},
     "output_type": "execute_result"
    }
   ],
   "source": [
    "totalKaloriTerbakar(20,'bersepeda', 'berlari', 'berenang')"
   ]
  },
  {
   "cell_type": "code",
   "execution_count": 57,
   "metadata": {},
   "outputs": [
    {
     "name": "stderr",
     "output_type": "stream",
     "text": [
      "..\n",
      "----------------------------------------------------------------------\n",
      "Ran 2 tests in 0.004s\n",
      "\n",
      "OK\n"
     ]
    }
   ],
   "source": [
    "import unittest\n",
    "\n",
    "class TestAplikasi(unittest.TestCase):\n",
    "    def test_kaloriTerbakar(self):\n",
    "        durasiKegiatan = 20\n",
    "        namaKegiatan = 'berlari'\n",
    "        \n",
    "        nilaiKalori = kaloriTerbakar(aktivitas=namaKegiatan, durasi=durasiKegiatan)\n",
    "        \n",
    "        self.assertEqual(200, nilaiKalori)\n",
    "        \n",
    "    def test_totalKaloriTerbakar(self):\n",
    "        durasiKegiatan = 20\n",
    "        daftarKegiatan = ['berlari', 'berenang', 'bersepeda']\n",
    "        \n",
    "        totalKalori = totalKaloriTerbakar(durasiKegiatan, *daftarKegiatan)\n",
    "        \n",
    "        self.assertEqual(600, totalKalori)\n",
    "        \n",
    "\n",
    "if __name__ == '__main__':\n",
    "    unittest.main(argv=[''], exit=False)"
   ]
  }
 ],
 "metadata": {
  "kernelspec": {
   "display_name": "Python 3",
   "language": "python",
   "name": "python3"
  },
  "language_info": {
   "codemirror_mode": {
    "name": "ipython",
    "version": 3
   },
   "file_extension": ".py",
   "mimetype": "text/x-python",
   "name": "python",
   "nbconvert_exporter": "python",
   "pygments_lexer": "ipython3",
   "version": "3.11.5"
  }
 },
 "nbformat": 4,
 "nbformat_minor": 2
}
