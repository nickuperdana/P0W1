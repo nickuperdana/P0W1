{
 "cells": [
  {
   "cell_type": "markdown",
   "metadata": {},
   "source": [
    "---  \n",
    "  \n",
    "Name : Nicku R. Perdana  \n",
    "Batch : HCK-012  \n",
    "\n",
    "---  "
   ]
  },
  {
   "cell_type": "markdown",
   "metadata": {},
   "source": [
    "# Variable\n",
    "\n",
    "Variable rules:\n",
    "- Always starts with string, cannot be started with numerical\n",
    "- Make sure if the variable is \"singular\" or \"plural\"\n",
    "- Three kinds of naming: camelCase, PascalCase, Snake_Code"
   ]
  },
  {
   "cell_type": "code",
   "execution_count": 38,
   "metadata": {},
   "outputs": [],
   "source": [
    "name = \"Randy\"\n",
    "favouriteNumber = 25\n",
    "isHungry = False\n",
    "\n",
    "# Make sure to run the latest cell first before continue to add/edit next cell to save this cell's output in the computer's memory"
   ]
  },
  {
   "cell_type": "markdown",
   "metadata": {},
   "source": [
    "# Primary Data Type"
   ]
  },
  {
   "cell_type": "markdown",
   "metadata": {},
   "source": [
    "## Integer\n",
    "\n",
    "Round, real number"
   ]
  },
  {
   "cell_type": "code",
   "execution_count": 42,
   "metadata": {},
   "outputs": [
    {
     "name": "stdout",
     "output_type": "stream",
     "text": [
      "30.0\n",
      "<class 'float'>\n",
      "False\n",
      "False\n",
      "50\n",
      "55\n",
      "60\n",
      "30.0\n",
      "<class 'float'>\n"
     ]
    }
   ],
   "source": [
    "print(favouriteNumber) # return `25' based on the previous output\n",
    "print(type(favouriteNumber)) # return `<class 'int'>` because `favouriteNumber` value is an integer number\n",
    "print(favouriteNumber == 9) # return `FALSE` because `favouriteNumber` value is not equal to `9`\n",
    "print(favouriteNumber == 25) # return `TRUE` because `favouriteNumber` value is equal to 25\n",
    "\n",
    "favouriteNumber = 50 # return `50` because `favouriteNumber` is reassigned to a new value of `50`\n",
    "print(favouriteNumber) # return `50` based on the previous state of `favouriteNumber`\n",
    "# If you run this cell multiple cells, the computer only know the latest variable value based on the previous run, and uses that value from the beginning of this cell. To make it connect linearly from start to end, press `Run All` button\n",
    "\n",
    "favouriteNumber += 5 # Add `favouriteNumber` value (integer) with 5. Both shall be equal type of data, `favouriteNumber` now is `55`\n",
    "print(favouriteNumber) # return `55`\n",
    "\n",
    "favouriteNumber = favouriteNumber + 5 # Reassignment with an operation to the variable itself. `favouriteNumber` now is `60`\n",
    "print(favouriteNumber) # Return `60`\n",
    "\n",
    "favouriteNumber = favouriteNumber - (favouriteNumber / 2) # Reassignment with an operation to the variable itself. `favouriteNumber` now is `30.0`\n",
    "print(favouriteNumber) # Return `30`\n",
    "print(type(favouriteNumber)) # `favouriteNumber` now is `<class 'float'>` according to the previous reassignment that involves division operation\n"
   ]
  },
  {
   "cell_type": "markdown",
   "metadata": {},
   "source": [
    "## Float\n",
    "\n",
    "Decimal, floating number"
   ]
  },
  {
   "cell_type": "code",
   "execution_count": 46,
   "metadata": {},
   "outputs": [
    {
     "name": "stdout",
     "output_type": "stream",
     "text": [
      "1.5\n",
      "1\n",
      "1.0\n"
     ]
    }
   ],
   "source": [
    "tigaSetengah = 1.5 # decimal number always uses point `.`\n",
    "print(tigaSetengah) # return `1.5`\n",
    "\n",
    "tigaSetengah = int(tigaSetengah) # reassign `tigaSetengah` to be an integer number, eliminate the decimal value behind, is not rounding up the eliminated decimal\n",
    "print(tigaSetengah) # return `1` as a round number\n",
    "\n",
    "tigaSetengah = float(tigaSetengah) # reassign `tigaSetengah` back to be a float number\n",
    "print(tigaSetengah) # return `1.0`, \n",
    "\n",
    "# Note that converted integer from float cannot be reverted back to its original form as a float\n"
   ]
  },
  {
   "cell_type": "markdown",
   "metadata": {},
   "source": [
    "Float number rounding:"
   ]
  },
  {
   "cell_type": "code",
   "execution_count": 49,
   "metadata": {},
   "outputs": [
    {
     "name": "stdout",
     "output_type": "stream",
     "text": [
      "3\n",
      "4\n",
      "3\n"
     ]
    }
   ],
   "source": [
    "phi = 3.14\n",
    "print(round(phi)) # return `3`, \n",
    "\n",
    "kappa = 3.6\n",
    "print(round(kappa)) # round the first recognized decimal up, return `4`\n",
    "\n",
    "gamma = 3.49\n",
    "print(round(gamma)) # Return `3` since the first decimal of a float `gamma` is `3.4` hence it is rounded (down) as `3`"
   ]
  },
  {
   "cell_type": "markdown",
   "metadata": {},
   "source": [
    "## String\n",
    "\n",
    "Text value, within 'xxxx' or \"xxxx\" "
   ]
  },
  {
   "cell_type": "code",
   "execution_count": 52,
   "metadata": {},
   "outputs": [
    {
     "name": "stdout",
     "output_type": "stream",
     "text": [
      "Nicku\n",
      "<class 'str'>\n",
      "Nicku R. Perdana\n"
     ]
    }
   ],
   "source": [
    "name = \"Nicku\"\n",
    "print(name) # Return \"Nicku\"\n",
    "print(type(name)) # Return class of variable `name` as a string\n",
    "\n",
    "name += \" R.\" # Append \" R.\" at the end of `name` value\n",
    "name += \" Perdana\" # Append \" Perdana\" at the end of `name` value\n",
    "print(name)"
   ]
  }
 ],
 "metadata": {
  "kernelspec": {
   "display_name": "base",
   "language": "python",
   "name": "python3"
  },
  "language_info": {
   "codemirror_mode": {
    "name": "ipython",
    "version": 3
   },
   "file_extension": ".py",
   "mimetype": "text/x-python",
   "name": "python",
   "nbconvert_exporter": "python",
   "pygments_lexer": "ipython3",
   "version": "3.11.5"
  }
 },
 "nbformat": 4,
 "nbformat_minor": 2
}
