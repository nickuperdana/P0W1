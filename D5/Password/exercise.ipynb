{
  "cells": [
    {
      "cell_type": "markdown",
      "metadata": {
        "id": "Gh5yxv_pMKek"
      },
      "source": [
        "Name :       \n",
        "Batch :      \n",
        "Objective :     "
      ]
    },
    {
      "cell_type": "markdown",
      "metadata": {
        "id": "sduaYqWoMMaA"
      },
      "source": [
        "# Task 1 Check Password Difficulty\n",
        "\n",
        "Tugasmu memastikan bahwa input merupakan password yang baik / aman. Dengan spesifikasi sebagai berikut :\n",
        "\n",
        "- Terdapat minimal 1 angka\n",
        "- Terdapat minimal 1 huruf uppercae\n",
        "- Terdapat minimal 1 huruf lowercase\n",
        "- Terdapat minimal 1 symbol\n",
        "- Minimal terdiri dari 8 character\n",
        "- Tidak ada spasi dari input\n",
        "\n",
        "Output merupakan boolean.\n",
        "\n",
        "Contoh:\n",
        "```\n",
        "Input :  \"HCk-1001\"  \n",
        "Output : True\n",
        "\n",
        "Input : \"HCK-01\"\n",
        "Process :\n",
        "Tidak ada lowercase.  \n",
        "Kurang dari 8 character.  \n",
        "Ouput : False\n",
        "\n",
        "Input  : \"HCK  -01\"\n",
        "Process :\n",
        "Tidak ada lowercase.  \n",
        "Terdapat spasi pada password.  \n",
        "Output : False\n",
        "```"
      ]
    },
    {
      "cell_type": "code",
      "execution_count": 52,
      "metadata": {
        "colab": {
          "base_uri": "https://localhost:8080/"
        },
        "id": "VTODNZuqMDFi",
        "outputId": "589f03fe-d340-48a9-a9c5-0cb278da3673"
      },
      "outputs": [
        {
          "name": "stdout",
          "output_type": "stream",
          "text": [
            "True\n"
          ]
        }
      ],
      "source": [
        "# Your code is here\n",
        "\n",
        "# - Terdapat minimal 1 angka\n",
        "# - Terdapat minimal 1 huruf uppercae\n",
        "# - Terdapat minimal 1 huruf lowercase\n",
        "# - Terdapat minimal 1 symbol\n",
        "# - Minimal terdiri dari 8 character\n",
        "# - Tidak ada spasi dari input\n",
        "\n",
        "def checkDifficulty(strPassword):    \n",
        "    \n",
        "    checkLower = False # default\n",
        "    checkUpper = False # default\n",
        "    checkDigit = False # default\n",
        "    checkSymbol = False # default\n",
        "    \n",
        "    if len(strPassword) < 8:\n",
        "        return False\n",
        "    elif ' ' in strPassword: # ga masalah pakai elif\n",
        "        return False\n",
        "    \n",
        "    for char in strPassword:\n",
        "        if char.islower():\n",
        "            checkLower = True\n",
        "        if char.isupper():\n",
        "            checkUpper = True\n",
        "        if char.isdigit():\n",
        "            checkDigit = True\n",
        "        if char.isalpha() == False and char.isdigit() == False:\n",
        "            checkSymbol = True\n",
        "    if checkLower and checkUpper and checkDigit and checkSymbol:\n",
        "        return True\n",
        "    return False\n",
        "    \n",
        "\n",
        "print(checkDifficulty(\"ayusudi1D#\"))"
      ]
    },
    {
      "cell_type": "code",
      "execution_count": 61,
      "metadata": {},
      "outputs": [
        {
          "data": {
            "text/plain": [
              "5"
            ]
          },
          "execution_count": 61,
          "metadata": {},
          "output_type": "execute_result"
        }
      ],
      "source": [
        "def phitagoras(a, b):\n",
        "    c = a^2 + b^2\n",
        "    return c\n",
        "\n",
        "phitagoras(2, 3)"
      ]
    },
    {
      "cell_type": "markdown",
      "metadata": {
        "id": "DjejsmS7Ok8O"
      },
      "source": [
        "# Task 2 Counting the List of Passwords that Pass the Check\n",
        "\n",
        "Menghitung daftar kata sandi yang lolos pengecekan. Kamu diberikan list berikut\n",
        "\n",
        "```\n",
        "\"LISA\", \"LaLi54!\"  \n",
        "\"JISOO\", \"s000y4A!\"  \n",
        "\"ROSE\", \"Hank IsMyD0g\"  \n",
        "\"JENNIE\", \"13LankPuNk%\"  \n",
        "```\n",
        "\n",
        "Dari contoh data diatas merupakan nama dan password dan hasilnya yang lolos ada 2 yaitu JISOO dan JENNIE. Output yang kamu berikan sebagai berikut.\n",
        "\n",
        "```py\n",
        "{\n",
        "  \"total\": 2,\n",
        "  \"names\": [\"JISOO\", \"JENNIE\"]\n",
        "}\n",
        "```"
      ]
    },
    {
      "cell_type": "code",
      "execution_count": 41,
      "metadata": {
        "colab": {
          "base_uri": "https://localhost:8080/"
        },
        "id": "3o7g95a5X9_n",
        "outputId": "7fb57a45-64fa-4735-9ab8-07c0ff000d9c"
      },
      "outputs": [],
      "source": [
        "# Your code is here\n",
        "\n",
        "# # list of list\n",
        "# [[\"LISA\", \"LaLi54!\"],  \n",
        "#  [\"JISOO\", \"s000y4A!\",]  \n",
        "#  [\"ROSE\", \"Hank IsMyD0g\"],  \n",
        "#  [\"JENNIE\", \"13LankPuNk%\"],]\n",
        "\n",
        "\n",
        "# # list of dictionary\n",
        "\n",
        "# [\n",
        "#     {\"name\" : \"LISA\", \"password\" : \"LaLi54!\"}\n",
        "#     {\"name\" : \"JISOO\", \"password\" : \"s000y4A!\"}\n",
        "#     {\"name\" : \"ROSE\", \"password\" : \"Hank IsMyD0g\"}\n",
        "#     {\"name\" : \"JENNIE\", \"password\" : \"13LankPuNk%\"}\n",
        "# ]\n"
      ]
    },
    {
      "cell_type": "code",
      "execution_count": 57,
      "metadata": {},
      "outputs": [
        {
          "name": "stdout",
          "output_type": "stream",
          "text": [
            "{'total': 2, 'names': ['JISOO', 'JENNIE']}\n"
          ]
        }
      ],
      "source": [
        "def countPasswordPass(data):\n",
        "    total = 0\n",
        "    names = []\n",
        "    \n",
        "    for el in data:\n",
        "        result = checkDifficulty(el[1])\n",
        "        if result :\n",
        "            total += 1\n",
        "            names.append(el[0])\n",
        "    # print(data)\n",
        "    # print(\"Hello\")\n",
        "    \n",
        "    output = {\n",
        "        \"total\" : total,\n",
        "        \"names\" : names\n",
        "    }\n",
        "    return output\n",
        "\n",
        "input = [[\"LISA\", \"LaLi54!\"], [\"JISOO\", \"s000y4A!\"], [\"ROSE\", \"Hank IsMyD0g\"], [\"JENNIE\", \"13LankPuNk%\"]]\n",
        "\n",
        "\n",
        "print(countPasswordPass(input))"
      ]
    },
    {
      "cell_type": "markdown",
      "metadata": {
        "id": "OnxMZzMBSHs1"
      },
      "source": [
        "> Jika ada waktu lengkapi dengan flowchart juga yaa"
      ]
    }
  ],
  "metadata": {
    "colab": {
      "provenance": []
    },
    "kernelspec": {
      "display_name": "Python 3",
      "name": "python3"
    },
    "language_info": {
      "codemirror_mode": {
        "name": "ipython",
        "version": 3
      },
      "file_extension": ".py",
      "mimetype": "text/x-python",
      "name": "python",
      "nbconvert_exporter": "python",
      "pygments_lexer": "ipython3",
      "version": "3.11.5"
    }
  },
  "nbformat": 4,
  "nbformat_minor": 0
}
