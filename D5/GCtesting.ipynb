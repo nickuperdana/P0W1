{
 "cells": [
  {
   "cell_type": "code",
   "execution_count": 1,
   "metadata": {},
   "outputs": [
    {
     "name": "stdout",
     "output_type": "stream",
     "text": [
      "8\n"
     ]
    }
   ],
   "source": [
    "index = [[1,2], [1,2], [1,2], [1,2]]\n",
    "\n",
    "table_list = []\n",
    "\n",
    "for i in range(len(index)):\n",
    "    sumItems = index[i][1]\n",
    "    table_list.append(sumItems)\n",
    "    \n",
    "print(sum(table_list))"
   ]
  },
  {
   "cell_type": "code",
   "execution_count": 35,
   "metadata": {},
   "outputs": [
    {
     "name": "stdout",
     "output_type": "stream",
     "text": [
      "[0, 0, 1, 0]\n",
      "2\n",
      "[[1, 2], [3, 4], [7, 8]]\n"
     ]
    }
   ],
   "source": [
    "index = [[1,2], [3,4], [5,6], [7,8]]\n",
    "\n",
    "listReference = []\n",
    "\n",
    "whattofind = 6\n",
    "\n",
    "for i in index:\n",
    "    if whattofind in i:\n",
    "        listReference.append(1)\n",
    "    else:\n",
    "        listReference.append(0)\n",
    "\n",
    "print(listReference)\n",
    "\n",
    "indexReference = listReference.index(1)\n",
    "\n",
    "print(indexReference)\n",
    "\n",
    "del index[indexReference]\n",
    "print(index)"
   ]
  },
  {
   "cell_type": "code",
   "execution_count": 34,
   "metadata": {},
   "outputs": [
    {
     "ename": "TypeError",
     "evalue": "'builtin_function_or_method' object is not subscriptable",
     "output_type": "error",
     "traceback": [
      "\u001b[1;31m---------------------------------------------------------------------------\u001b[0m",
      "\u001b[1;31mTypeError\u001b[0m                                 Traceback (most recent call last)",
      "Cell \u001b[1;32mIn[34], line 12\u001b[0m\n\u001b[0;32m      9\u001b[0m     \u001b[38;5;28;01melse\u001b[39;00m:\n\u001b[0;32m     10\u001b[0m         listReference\u001b[38;5;241m.\u001b[39mappend(\u001b[38;5;241m0\u001b[39m)\n\u001b[1;32m---> 12\u001b[0m indexReference \u001b[38;5;241m=\u001b[39m listReference\u001b[38;5;241m.\u001b[39mindex[\u001b[38;5;241m1\u001b[39m]\n\u001b[0;32m     14\u001b[0m \u001b[38;5;28;01mdel\u001b[39;00m remItem[indexReference]\n\u001b[0;32m     16\u001b[0m \u001b[38;5;28;01mreturn\u001b[39;00m remItem\n",
      "\u001b[1;31mTypeError\u001b[0m: 'builtin_function_or_method' object is not subscriptable"
     ]
    }
   ],
   "source": [
    "mylist = [1,2,3,4,5]\n",
    "\n"
   ]
  }
 ],
 "metadata": {
  "kernelspec": {
   "display_name": "base",
   "language": "python",
   "name": "python3"
  },
  "language_info": {
   "codemirror_mode": {
    "name": "ipython",
    "version": 3
   },
   "file_extension": ".py",
   "mimetype": "text/x-python",
   "name": "python",
   "nbconvert_exporter": "python",
   "pygments_lexer": "ipython3",
   "version": "3.11.5"
  }
 },
 "nbformat": 4,
 "nbformat_minor": 2
}
